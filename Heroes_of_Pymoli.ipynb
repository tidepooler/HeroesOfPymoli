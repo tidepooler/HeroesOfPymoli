{
 "cells": [
  {
   "cell_type": "code",
   "execution_count": 35,
   "metadata": {},
   "outputs": [],
   "source": [
    "#import pandas\n",
    "\n",
    "import pandas as pd"
   ]
  },
  {
   "cell_type": "code",
   "execution_count": 36,
   "metadata": {},
   "outputs": [],
   "source": [
    "#Import Modules\n",
    "\n",
    "import os\n",
    "import csv"
   ]
  },
  {
   "cell_type": "code",
   "execution_count": 37,
   "metadata": {},
   "outputs": [],
   "source": [
    "#Set path for file\n",
    "\n",
    "csvpath = os.path.join(\"Resources\", \"purchase_data.csv\")"
   ]
  },
  {
   "cell_type": "code",
   "execution_count": 38,
   "metadata": {},
   "outputs": [],
   "source": [
    "#Set table to data frame\n",
    "\n",
    "df_purchase_data = pd.read_csv(csvpath)"
   ]
  },
  {
   "cell_type": "code",
   "execution_count": 48,
   "metadata": {},
   "outputs": [
    {
     "data": {
      "text/plain": [
       "780"
      ]
     },
     "execution_count": 48,
     "metadata": {},
     "output_type": "execute_result"
    }
   ],
   "source": [
    "#DETERMINE PLAYER COUNT\n",
    "\n",
    "player_count = len(df_purchase_data)\n",
    "player_count\n"
   ]
  },
  {
   "cell_type": "code",
   "execution_count": 49,
   "metadata": {},
   "outputs": [],
   "source": [
    "#ANALYZE PURCHASING TOTALS:\n",
    "#Number of Unique Items, Average Purchase Price, Total Number of Purchases, Total Revenue"
   ]
  },
  {
   "cell_type": "code",
   "execution_count": 50,
   "metadata": {},
   "outputs": [
    {
     "data": {
      "text/plain": [
       "179"
      ]
     },
     "execution_count": 50,
     "metadata": {},
     "output_type": "execute_result"
    }
   ],
   "source": [
    "#Number of unique items\n",
    "unique_items = df_purchase_data[\"Item_Name\"].unique()\n",
    "unique_items_ct = len(unique_items)\n",
    "unique_items_ct"
   ]
  },
  {
   "cell_type": "code",
   "execution_count": 51,
   "metadata": {},
   "outputs": [
    {
     "data": {
      "text/plain": [
       "3.050987179487176"
      ]
     },
     "execution_count": 51,
     "metadata": {},
     "output_type": "execute_result"
    }
   ],
   "source": [
    "#Average Purchase Price:\n",
    "#df_purchase_data[\"Price\"].mean({:,})\n",
    "purchase_price = df_purchase_data[\"Price\"].mean()\n",
    "purchase_price\n",
    "#round up to two decimals?"
   ]
  },
  {
   "cell_type": "code",
   "execution_count": 52,
   "metadata": {},
   "outputs": [],
   "source": [
    "#ANALYZE GENDER DEMOGRAPHICS:\n",
    "# % and Count of Male Players, % and Count of Female Players, % and Count of Other/Non-disclosed Players"
   ]
  },
  {
   "cell_type": "code",
   "execution_count": 57,
   "metadata": {},
   "outputs": [
    {
     "data": {
      "text/plain": [
       "652"
      ]
     },
     "execution_count": 57,
     "metadata": {},
     "output_type": "execute_result"
    }
   ],
   "source": [
    "# Count of Male Players\n",
    "\n",
    "only_males = df_purchase_data.loc[df_purchase_data[\"Gender\"] == \"Male\", :]\n",
    "males = len(only_males)\n",
    "males"
   ]
  },
  {
   "cell_type": "code",
   "execution_count": 58,
   "metadata": {},
   "outputs": [
    {
     "data": {
      "text/plain": [
       "83.58974358974359"
      ]
     },
     "execution_count": 58,
     "metadata": {},
     "output_type": "execute_result"
    }
   ],
   "source": [
    "# % of Male Players\n",
    "\n",
    "perc_male = males/player_count*100\n",
    "perc_male\n",
    "\n",
    "#round up to two decimals?"
   ]
  },
  {
   "cell_type": "code",
   "execution_count": 59,
   "metadata": {},
   "outputs": [
    {
     "data": {
      "text/plain": [
       "113"
      ]
     },
     "execution_count": 59,
     "metadata": {},
     "output_type": "execute_result"
    }
   ],
   "source": [
    "# % and Count of Female Players\n",
    "\n",
    "only_females = df_purchase_data.loc[df_purchase_data[\"Gender\"] == \"Female\", :]\n",
    "females = len(only_females)\n",
    "females"
   ]
  },
  {
   "cell_type": "code",
   "execution_count": 60,
   "metadata": {},
   "outputs": [
    {
     "data": {
      "text/plain": [
       "14.487179487179489"
      ]
     },
     "execution_count": 60,
     "metadata": {},
     "output_type": "execute_result"
    }
   ],
   "source": [
    "# % of Female Players\n",
    "\n",
    "perc_female = females/player_count*100\n",
    "perc_female\n",
    "\n",
    "#round up to two decimals?"
   ]
  },
  {
   "cell_type": "code",
   "execution_count": 64,
   "metadata": {},
   "outputs": [
    {
     "data": {
      "text/plain": [
       "15"
      ]
     },
     "execution_count": 64,
     "metadata": {},
     "output_type": "execute_result"
    }
   ],
   "source": [
    "# Count of Other/Non-disclosed Players\n",
    "\n",
    "only_unknown = df_purchase_data.loc[df_purchase_data[\"Gender\"] == \"Other / Non-Disclosed\", :]\n",
    "unknown = len(only_unknown)\n",
    "unknown"
   ]
  },
  {
   "cell_type": "code",
   "execution_count": 65,
   "metadata": {},
   "outputs": [
    {
     "data": {
      "text/plain": [
       "1.9230769230769231"
      ]
     },
     "execution_count": 65,
     "metadata": {},
     "output_type": "execute_result"
    }
   ],
   "source": [
    "# % of Other/Non-disclosed Players\n",
    "\n",
    "perc_unknown = unknown/player_count*100\n",
    "perc_unknown\n",
    "\n",
    "#round up to two decimals?"
   ]
  },
  {
   "cell_type": "code",
   "execution_count": null,
   "metadata": {},
   "outputs": [],
   "source": [
    "#Analyze Purchasing by Gender: \n",
    "#For each gender, determine\n",
    "#Purchase Count, Average Purchase Price, Total Purchase Value, Average Purchase Total Per Person"
   ]
  },
  {
   "cell_type": "code",
   "execution_count": null,
   "metadata": {},
   "outputs": [],
   "source": [
    "#Analyze Age Demographics:\n",
    "#Determine the lowest and highest age\n",
    "#Break age groups into bins of 4 years: 6-10, 11-15, 16-20, 20-24, etc.\n",
    "#Within each age bin, determine: \n",
    "    #Purchase Count, Average Purchase Price, Total Purchase Price, Average Purchase Total Per Person"
   ]
  },
  {
   "cell_type": "code",
   "execution_count": null,
   "metadata": {},
   "outputs": [],
   "source": [
    "#Analyze Top Spenders:\n",
    "#Identify the top 5 spenders in game by total purchase value\n",
    "#List them in a table with the following information\n",
    "#SN, Purchase Count, Average Purchase Price, Total Purchase Price"
   ]
  },
  {
   "cell_type": "code",
   "execution_count": null,
   "metadata": {},
   "outputs": [],
   "source": [
    "#Determine Most Popular Items\n",
    "#Identify the 5 most popular items by purchase count\n",
    "#List them in a table with the following information\n",
    "#Item ID, Item Name, #Purchase Count, #Item Price, #Total Purchase Value"
   ]
  },
  {
   "cell_type": "code",
   "execution_count": null,
   "metadata": {},
   "outputs": [],
   "source": [
    "#Determine Most Profitable Items\n",
    "#Identify the 5 most profitable items by total purchase value\n",
    "#List them in a table with the following information\n",
    "#Item ID, Item Name, Purchase Count, Itemm Price, Total Purchase Value"
   ]
  },
  {
   "cell_type": "code",
   "execution_count": null,
   "metadata": {},
   "outputs": [],
   "source": []
  }
 ],
 "metadata": {
  "kernelspec": {
   "display_name": "Python 3",
   "language": "python",
   "name": "python3"
  },
  "language_info": {
   "codemirror_mode": {
    "name": "ipython",
    "version": 3
   },
   "file_extension": ".py",
   "mimetype": "text/x-python",
   "name": "python",
   "nbconvert_exporter": "python",
   "pygments_lexer": "ipython3",
   "version": "3.8.3"
  }
 },
 "nbformat": 4,
 "nbformat_minor": 4
}
