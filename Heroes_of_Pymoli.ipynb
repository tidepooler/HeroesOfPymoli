{
 "cells": [
  {
   "cell_type": "code",
   "execution_count": 3,
   "metadata": {},
   "outputs": [],
   "source": [
    "#import pandas\n",
    "import pandas as pd"
   ]
  },
  {
   "cell_type": "code",
   "execution_count": 4,
   "metadata": {},
   "outputs": [],
   "source": [
    "#Import Modules\n",
    "\n",
    "import os\n",
    "import csv"
   ]
  },
  {
   "cell_type": "code",
   "execution_count": 5,
   "metadata": {},
   "outputs": [],
   "source": [
    "#Set path for file\n",
    "\n",
    "csvpath = os.path.join(\"Resources\", \"purchase_data.csv\")"
   ]
  },
  {
   "cell_type": "code",
   "execution_count": 6,
   "metadata": {},
   "outputs": [
    {
     "data": {
      "text/plain": [
       "780"
      ]
     },
     "execution_count": 6,
     "metadata": {},
     "output_type": "execute_result"
    }
   ],
   "source": [
    "#DETERMINE PLAYER COUNT\n",
    "\n",
    "df_purchase_data = pd.read_csv(csvpath)\n",
    "len(df_purchase_data)\n"
   ]
  },
  {
   "cell_type": "code",
   "execution_count": 7,
   "metadata": {},
   "outputs": [],
   "source": [
    "#ANALYZE PURCHASING TOTALS\n",
    "#Number of Unique Items, Average Purchase Price, Total Number of Purchases, Total Revenue"
   ]
  },
  {
   "cell_type": "code",
   "execution_count": 8,
   "metadata": {},
   "outputs": [
    {
     "data": {
      "text/plain": [
       "179"
      ]
     },
     "execution_count": 8,
     "metadata": {},
     "output_type": "execute_result"
    }
   ],
   "source": [
    "#Number of unique items\"\n",
    "unique_items = df_purchase_data[\"Item_Name\"].unique()\n",
    "len(unique_items)"
   ]
  },
  {
   "cell_type": "code",
   "execution_count": 15,
   "metadata": {},
   "outputs": [
    {
     "name": "stdout",
     "output_type": "stream",
     "text": [
      "3.050987179487176\n"
     ]
    }
   ],
   "source": [
    "#Average Purchase Price:\n",
    "#df_purchase_data[\"Price\"].mean({:,})\n",
    "purchase_price = df_purchase_data[\"Price\"].mean()\n",
    "print(purchase_price)\n",
    "#round up to two decimals?"
   ]
  },
  {
   "cell_type": "code",
   "execution_count": null,
   "metadata": {},
   "outputs": [],
   "source": [
    "#Analyize Gender Demographics: \n",
    "# % and Count of Male Players, % and Count of Female Players, % and Count of Other/Non-disclosed Players"
   ]
  },
  {
   "cell_type": "code",
   "execution_count": null,
   "metadata": {},
   "outputs": [],
   "source": [
    "#Analyze Purchasing by Gender: \n",
    "#For each gender, determine\n",
    "#Purchase Count, Average Purchase Price, Total Purchase Value, Average Purchase Total Per Person"
   ]
  },
  {
   "cell_type": "code",
   "execution_count": null,
   "metadata": {},
   "outputs": [],
   "source": [
    "#Analyze Age Demographics:\n",
    "#Determine the lowest and highest age\n",
    "#Break age groups into bins of 4 years: 6-10, 11-15, 16-20, 20-24, etc.\n",
    "#Within each age bin, determine: \n",
    "    #Purchase Count, Average Purchase Price, Total Purchase Price, Average Purchase Total Per Person"
   ]
  },
  {
   "cell_type": "code",
   "execution_count": null,
   "metadata": {},
   "outputs": [],
   "source": [
    "#Analyze Top Spenders:\n",
    "#Identify the top 5 spenders in game by total purchase value\n",
    "#List them in a table with the following information\n",
    "#SN, Purchase Count, Average Purchase Price, Total Purchase Price"
   ]
  },
  {
   "cell_type": "code",
   "execution_count": null,
   "metadata": {},
   "outputs": [],
   "source": [
    "#Determine Most Popular Items\n",
    "#Identify the 5 most popular items by purchase count\n",
    "#List them in a table with the following information\n",
    "#Item ID, Item Name, #Purchase Count, #Item Price, #Total Purchase Value"
   ]
  },
  {
   "cell_type": "code",
   "execution_count": null,
   "metadata": {},
   "outputs": [],
   "source": [
    "#Determine Most Profitable Items\n",
    "#Identify the 5 most profitable items by total purchase value\n",
    "#List them in a table with the following information\n",
    "#Item ID, Item Name, Purchase Count, Itemm Price, Total Purchase Value"
   ]
  },
  {
   "cell_type": "code",
   "execution_count": null,
   "metadata": {},
   "outputs": [],
   "source": []
  }
 ],
 "metadata": {
  "kernelspec": {
   "display_name": "Python 3",
   "language": "python",
   "name": "python3"
  },
  "language_info": {
   "codemirror_mode": {
    "name": "ipython",
    "version": 3
   },
   "file_extension": ".py",
   "mimetype": "text/x-python",
   "name": "python",
   "nbconvert_exporter": "python",
   "pygments_lexer": "ipython3",
   "version": "3.8.3"
  }
 },
 "nbformat": 4,
 "nbformat_minor": 4
}
