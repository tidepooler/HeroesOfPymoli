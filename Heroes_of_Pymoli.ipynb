{
 "cells": [
  {
   "cell_type": "code",
   "execution_count": 183,
   "metadata": {},
   "outputs": [],
   "source": [
    "#import pandas\n",
    "\n",
    "import pandas as pd"
   ]
  },
  {
   "cell_type": "code",
   "execution_count": 184,
   "metadata": {},
   "outputs": [],
   "source": [
    "#Import Modules\n",
    "import numpy as np\n",
    "import os\n",
    "import csv"
   ]
  },
  {
   "cell_type": "code",
   "execution_count": 185,
   "metadata": {},
   "outputs": [],
   "source": [
    "#Set path for file\n",
    "\n",
    "csvpath = os.path.join(\"Resources\", \"purchase_data.csv\")"
   ]
  },
  {
   "cell_type": "code",
   "execution_count": 186,
   "metadata": {},
   "outputs": [
    {
     "data": {
      "text/html": [
       "<div>\n",
       "<style scoped>\n",
       "    .dataframe tbody tr th:only-of-type {\n",
       "        vertical-align: middle;\n",
       "    }\n",
       "\n",
       "    .dataframe tbody tr th {\n",
       "        vertical-align: top;\n",
       "    }\n",
       "\n",
       "    .dataframe thead th {\n",
       "        text-align: right;\n",
       "    }\n",
       "</style>\n",
       "<table border=\"1\" class=\"dataframe\">\n",
       "  <thead>\n",
       "    <tr style=\"text-align: right;\">\n",
       "      <th></th>\n",
       "      <th>Purchase_ID</th>\n",
       "      <th>SN</th>\n",
       "      <th>Age</th>\n",
       "      <th>Gender</th>\n",
       "      <th>Item_ID</th>\n",
       "      <th>Item_Name</th>\n",
       "      <th>Price</th>\n",
       "    </tr>\n",
       "  </thead>\n",
       "  <tbody>\n",
       "    <tr>\n",
       "      <th>0</th>\n",
       "      <td>0</td>\n",
       "      <td>Lisim78</td>\n",
       "      <td>20</td>\n",
       "      <td>Male</td>\n",
       "      <td>108</td>\n",
       "      <td>Extraction, Quickblade Of Trembling Hands</td>\n",
       "      <td>3.53</td>\n",
       "    </tr>\n",
       "    <tr>\n",
       "      <th>1</th>\n",
       "      <td>1</td>\n",
       "      <td>Lisovynya38</td>\n",
       "      <td>40</td>\n",
       "      <td>Male</td>\n",
       "      <td>143</td>\n",
       "      <td>Frenzied Scimitar</td>\n",
       "      <td>1.56</td>\n",
       "    </tr>\n",
       "    <tr>\n",
       "      <th>2</th>\n",
       "      <td>2</td>\n",
       "      <td>Ithergue48</td>\n",
       "      <td>24</td>\n",
       "      <td>Male</td>\n",
       "      <td>92</td>\n",
       "      <td>Final Critic</td>\n",
       "      <td>4.88</td>\n",
       "    </tr>\n",
       "    <tr>\n",
       "      <th>3</th>\n",
       "      <td>3</td>\n",
       "      <td>Chamassasya86</td>\n",
       "      <td>24</td>\n",
       "      <td>Male</td>\n",
       "      <td>100</td>\n",
       "      <td>Blindscythe</td>\n",
       "      <td>3.27</td>\n",
       "    </tr>\n",
       "    <tr>\n",
       "      <th>4</th>\n",
       "      <td>4</td>\n",
       "      <td>Iskosia90</td>\n",
       "      <td>23</td>\n",
       "      <td>Male</td>\n",
       "      <td>131</td>\n",
       "      <td>Fury</td>\n",
       "      <td>1.44</td>\n",
       "    </tr>\n",
       "  </tbody>\n",
       "</table>\n",
       "</div>"
      ],
      "text/plain": [
       "   Purchase_ID             SN  Age Gender  Item_ID  \\\n",
       "0            0        Lisim78   20   Male      108   \n",
       "1            1    Lisovynya38   40   Male      143   \n",
       "2            2     Ithergue48   24   Male       92   \n",
       "3            3  Chamassasya86   24   Male      100   \n",
       "4            4      Iskosia90   23   Male      131   \n",
       "\n",
       "                                   Item_Name  Price  \n",
       "0  Extraction, Quickblade Of Trembling Hands   3.53  \n",
       "1                          Frenzied Scimitar   1.56  \n",
       "2                               Final Critic   4.88  \n",
       "3                                Blindscythe   3.27  \n",
       "4                                       Fury   1.44  "
      ]
     },
     "execution_count": 186,
     "metadata": {},
     "output_type": "execute_result"
    }
   ],
   "source": [
    "#Set table to data frame\n",
    "\n",
    "df_purchase_data = pd.read_csv(csvpath)\n",
    "df_purchase_data.head()"
   ]
  },
  {
   "cell_type": "code",
   "execution_count": 187,
   "metadata": {},
   "outputs": [
    {
     "data": {
      "text/html": [
       "<div>\n",
       "<style scoped>\n",
       "    .dataframe tbody tr th:only-of-type {\n",
       "        vertical-align: middle;\n",
       "    }\n",
       "\n",
       "    .dataframe tbody tr th {\n",
       "        vertical-align: top;\n",
       "    }\n",
       "\n",
       "    .dataframe thead th {\n",
       "        text-align: right;\n",
       "    }\n",
       "</style>\n",
       "<table border=\"1\" class=\"dataframe\">\n",
       "  <thead>\n",
       "    <tr style=\"text-align: right;\">\n",
       "      <th></th>\n",
       "      <th>Individual Players</th>\n",
       "    </tr>\n",
       "  </thead>\n",
       "  <tbody>\n",
       "    <tr>\n",
       "      <th>0</th>\n",
       "      <td>576</td>\n",
       "    </tr>\n",
       "  </tbody>\n",
       "</table>\n",
       "</div>"
      ],
      "text/plain": [
       "   Individual Players\n",
       "0                 576"
      ]
     },
     "execution_count": 187,
     "metadata": {},
     "output_type": "execute_result"
    }
   ],
   "source": [
    "#DETERMINE PLAYER COUNT\n",
    "\n",
    "unique_players = pd.DataFrame([{\"Individual Players\": df_purchase_data[\"SN\"].nunique()}])\n",
    "unique_players\n"
   ]
  },
  {
   "cell_type": "code",
   "execution_count": 188,
   "metadata": {},
   "outputs": [],
   "source": [
    "#ANALYZE PURCHASING TOTALS:\n",
    "#Number of Unique Items, Average Purchase Price, Total Number of Purchases, Total Revenue"
   ]
  },
  {
   "cell_type": "code",
   "execution_count": 189,
   "metadata": {},
   "outputs": [
    {
     "data": {
      "text/html": [
       "<div>\n",
       "<style scoped>\n",
       "    .dataframe tbody tr th:only-of-type {\n",
       "        vertical-align: middle;\n",
       "    }\n",
       "\n",
       "    .dataframe tbody tr th {\n",
       "        vertical-align: top;\n",
       "    }\n",
       "\n",
       "    .dataframe thead th {\n",
       "        text-align: right;\n",
       "    }\n",
       "</style>\n",
       "<table border=\"1\" class=\"dataframe\">\n",
       "  <thead>\n",
       "    <tr style=\"text-align: right;\">\n",
       "      <th></th>\n",
       "      <th>Item Name</th>\n",
       "    </tr>\n",
       "  </thead>\n",
       "  <tbody>\n",
       "    <tr>\n",
       "      <th>0</th>\n",
       "      <td>179</td>\n",
       "    </tr>\n",
       "  </tbody>\n",
       "</table>\n",
       "</div>"
      ],
      "text/plain": [
       "   Item Name\n",
       "0        179"
      ]
     },
     "execution_count": 189,
     "metadata": {},
     "output_type": "execute_result"
    }
   ],
   "source": [
    "#Number of unique items\n",
    "unique_items = pd.DataFrame([{\"Item Name\": df_purchase_data[\"Item_Name\"].nunique()}])\n",
    "unique_items"
   ]
  },
  {
   "cell_type": "code",
   "execution_count": 190,
   "metadata": {},
   "outputs": [
    {
     "data": {
      "text/html": [
       "<div>\n",
       "<style scoped>\n",
       "    .dataframe tbody tr th:only-of-type {\n",
       "        vertical-align: middle;\n",
       "    }\n",
       "\n",
       "    .dataframe tbody tr th {\n",
       "        vertical-align: top;\n",
       "    }\n",
       "\n",
       "    .dataframe thead th {\n",
       "        text-align: right;\n",
       "    }\n",
       "</style>\n",
       "<table border=\"1\" class=\"dataframe\">\n",
       "  <thead>\n",
       "    <tr style=\"text-align: right;\">\n",
       "      <th></th>\n",
       "      <th>Average Price</th>\n",
       "    </tr>\n",
       "  </thead>\n",
       "  <tbody>\n",
       "    <tr>\n",
       "      <th>0</th>\n",
       "      <td>3.05</td>\n",
       "    </tr>\n",
       "  </tbody>\n",
       "</table>\n",
       "</div>"
      ],
      "text/plain": [
       "   Average Price\n",
       "0           3.05"
      ]
     },
     "execution_count": 190,
     "metadata": {},
     "output_type": "execute_result"
    }
   ],
   "source": [
    "#Average Purchase Price:\n",
    "purchase_price = pd.DataFrame([{\"Average Price\": df_purchase_data[\"Price\"].mean()}])\n",
    "#Round average purchase price:\n",
    "purchase_price.round(2)"
   ]
  },
  {
   "cell_type": "code",
   "execution_count": 191,
   "metadata": {},
   "outputs": [
    {
     "data": {
      "text/html": [
       "<div>\n",
       "<style scoped>\n",
       "    .dataframe tbody tr th:only-of-type {\n",
       "        vertical-align: middle;\n",
       "    }\n",
       "\n",
       "    .dataframe tbody tr th {\n",
       "        vertical-align: top;\n",
       "    }\n",
       "\n",
       "    .dataframe thead th {\n",
       "        text-align: right;\n",
       "    }\n",
       "</style>\n",
       "<table border=\"1\" class=\"dataframe\">\n",
       "  <thead>\n",
       "    <tr style=\"text-align: right;\">\n",
       "      <th></th>\n",
       "      <th>Total Purchases</th>\n",
       "    </tr>\n",
       "  </thead>\n",
       "  <tbody>\n",
       "    <tr>\n",
       "      <th>0</th>\n",
       "      <td>780</td>\n",
       "    </tr>\n",
       "  </tbody>\n",
       "</table>\n",
       "</div>"
      ],
      "text/plain": [
       "   Total Purchases\n",
       "0              780"
      ]
     },
     "execution_count": 191,
     "metadata": {},
     "output_type": "execute_result"
    }
   ],
   "source": [
    "#Total Number of Purchases:\n",
    "total_purchases = pd.DataFrame([{\"Total Purchases\": df_purchase_data[\"Price\"].count()}])\n",
    "total_purchases"
   ]
  },
  {
   "cell_type": "code",
   "execution_count": 192,
   "metadata": {},
   "outputs": [
    {
     "data": {
      "text/plain": [
       "2379.77"
      ]
     },
     "execution_count": 192,
     "metadata": {},
     "output_type": "execute_result"
    }
   ],
   "source": [
    "#Total Revenue\n",
    "total_revenue = df_purchase_data[\"Price\"].sum()\n",
    "total_revenue"
   ]
  },
  {
   "cell_type": "code",
   "execution_count": 193,
   "metadata": {},
   "outputs": [],
   "source": [
    "#ANALYZE GENDER DEMOGRAPHICS:\n",
    "# % and Count of Male Players, \n",
    "# % and Count of Female Players, \n",
    "# % and Count of Other/Non-disclosed Players"
   ]
  },
  {
   "cell_type": "code",
   "execution_count": 194,
   "metadata": {},
   "outputs": [
    {
     "data": {
      "text/html": [
       "<div>\n",
       "<style scoped>\n",
       "    .dataframe tbody tr th:only-of-type {\n",
       "        vertical-align: middle;\n",
       "    }\n",
       "\n",
       "    .dataframe tbody tr th {\n",
       "        vertical-align: top;\n",
       "    }\n",
       "\n",
       "    .dataframe thead th {\n",
       "        text-align: right;\n",
       "    }\n",
       "</style>\n",
       "<table border=\"1\" class=\"dataframe\">\n",
       "  <thead>\n",
       "    <tr style=\"text-align: right;\">\n",
       "      <th></th>\n",
       "      <th>Gender</th>\n",
       "      <th>Total</th>\n",
       "      <th>Percentage</th>\n",
       "    </tr>\n",
       "  </thead>\n",
       "  <tbody>\n",
       "    <tr>\n",
       "      <th>0</th>\n",
       "      <td>Male</td>\n",
       "      <td>484.0</td>\n",
       "      <td>84.03</td>\n",
       "    </tr>\n",
       "    <tr>\n",
       "      <th>1</th>\n",
       "      <td>Female</td>\n",
       "      <td>81.0</td>\n",
       "      <td>14.06</td>\n",
       "    </tr>\n",
       "    <tr>\n",
       "      <th>2</th>\n",
       "      <td>Other/Not Disclosed</td>\n",
       "      <td>11.0</td>\n",
       "      <td>1.91</td>\n",
       "    </tr>\n",
       "    <tr>\n",
       "      <th>Total Players</th>\n",
       "      <td></td>\n",
       "      <td>576.0</td>\n",
       "      <td>100.00</td>\n",
       "    </tr>\n",
       "  </tbody>\n",
       "</table>\n",
       "</div>"
      ],
      "text/plain": [
       "                            Gender  Total  Percentage\n",
       "0                             Male  484.0       84.03\n",
       "1                           Female   81.0       14.06\n",
       "2              Other/Not Disclosed   11.0        1.91\n",
       "Total Players                       576.0      100.00"
      ]
     },
     "execution_count": 194,
     "metadata": {},
     "output_type": "execute_result"
    }
   ],
   "source": [
    "#Count of players by gender category, and percentage by gender\n",
    "\n",
    "#Create dataframe that indicates the number of each gender category                  \n",
    "Gender = df_purchase_data.groupby(\"Gender\").nunique()\n",
    "Male = Gender.iloc[1,1]\n",
    "Female = Gender.iloc[0,1]\n",
    "Other = Gender.iloc[2,1]\n",
    "\n",
    "#Create a dataframe that calculates the totals and percentages of each gender category\n",
    "df_percentage = pd.DataFrame({\n",
    "    \"Gender\": [\"Male\", \"Female\", \"Other/Not Disclosed\"],\n",
    "    \"Total\": [Male, Female, Other],\n",
    "    \"Percentage\": [100*Male/df_purchase_data[\"SN\"].nunique(), \n",
    "                    100*Female/df_purchase_data[\"SN\"].nunique(), \n",
    "                    100*Other/df_purchase_data[\"SN\"].nunique()]\n",
    "})\n",
    "\n",
    "df_percentage.loc[\"Total Players\"]= df_percentage.sum(axis=0,numeric_only=True)\n",
    "df_percentage.loc[\"Total Players\", \"Gender\"] = \"\"\n",
    "\n",
    "#Format the percentages to two decimals\n",
    "df_percentage = df_percentage.round(2)\n",
    "\n",
    "#Print out the total of each gender category and its percentage in a table\n",
    "df_percentage"
   ]
  },
  {
   "cell_type": "code",
   "execution_count": 195,
   "metadata": {},
   "outputs": [],
   "source": [
    "#Analyze Purchasing by Gender: \n",
    "\n",
    "#For each gender, determine\n",
    "#Purchase Count, Average Purchase Price, Total Purchase Value"
   ]
  },
  {
   "cell_type": "code",
   "execution_count": 196,
   "metadata": {},
   "outputs": [
    {
     "data": {
      "text/html": [
       "<div>\n",
       "<style scoped>\n",
       "    .dataframe tbody tr th:only-of-type {\n",
       "        vertical-align: middle;\n",
       "    }\n",
       "\n",
       "    .dataframe tbody tr th {\n",
       "        vertical-align: top;\n",
       "    }\n",
       "\n",
       "    .dataframe thead th {\n",
       "        text-align: right;\n",
       "    }\n",
       "</style>\n",
       "<table border=\"1\" class=\"dataframe\">\n",
       "  <thead>\n",
       "    <tr style=\"text-align: right;\">\n",
       "      <th></th>\n",
       "      <th>Number of Purchases</th>\n",
       "      <th>Total Purchase Values</th>\n",
       "      <th>Average Purchases</th>\n",
       "    </tr>\n",
       "    <tr>\n",
       "      <th>Gender</th>\n",
       "      <th></th>\n",
       "      <th></th>\n",
       "      <th></th>\n",
       "    </tr>\n",
       "  </thead>\n",
       "  <tbody>\n",
       "    <tr>\n",
       "      <th>Female</th>\n",
       "      <td>113</td>\n",
       "      <td>361.94</td>\n",
       "      <td>3.20</td>\n",
       "    </tr>\n",
       "    <tr>\n",
       "      <th>Male</th>\n",
       "      <td>652</td>\n",
       "      <td>1967.64</td>\n",
       "      <td>3.02</td>\n",
       "    </tr>\n",
       "    <tr>\n",
       "      <th>Other / Non-Disclosed</th>\n",
       "      <td>15</td>\n",
       "      <td>50.19</td>\n",
       "      <td>3.35</td>\n",
       "    </tr>\n",
       "  </tbody>\n",
       "</table>\n",
       "</div>"
      ],
      "text/plain": [
       "                       Number of Purchases  Total Purchase Values  \\\n",
       "Gender                                                              \n",
       "Female                                 113                 361.94   \n",
       "Male                                   652                1967.64   \n",
       "Other / Non-Disclosed                   15                  50.19   \n",
       "\n",
       "                       Average Purchases  \n",
       "Gender                                    \n",
       "Female                              3.20  \n",
       "Male                                3.02  \n",
       "Other / Non-Disclosed               3.35  "
      ]
     },
     "execution_count": 196,
     "metadata": {},
     "output_type": "execute_result"
    }
   ],
   "source": [
    "#Determine Total Purchase Count by Gender\n",
    "Total_Purchase_Counts = df_purchase_data.groupby([\"Gender\"]).count()[\"Price\"].rename(\"Total Purchase Counts\")\n",
    "\n",
    "#Determine Total Purchase Value by Gender\n",
    "Total_Purchase_Values = df_purchase_data.groupby([\"Gender\"]).sum()[\"Price\"].rename(\"Total Purchase Values\")\n",
    "\n",
    "#Determine Average Purchase Price\n",
    "Avg_Purchases = df_purchase_data.groupby([\"Gender\"]).mean()[\"Price\"].rename(\"Average Purchase Price\")\n",
    "Avg_Purchases = Avg_Purchases.round(2)\n",
    "\n",
    "#Print Dataframe showing all above information by gender\n",
    "Purchases_By_Gender = pd.DataFrame ({\n",
    "    \"Number of Purchases\": Total_Purchase_Counts,\n",
    "    \"Total Purchase Values\": Total_Purchase_Values,\n",
    "    \"Average Purchases\": Avg_Purchases\n",
    "})\n",
    "\n",
    "Purchases_By_Gender"
   ]
  },
  {
   "cell_type": "code",
   "execution_count": 208,
   "metadata": {
    "scrolled": true
   },
   "outputs": [
    {
     "data": {
      "text/plain": [
       "Gender                 SN           \n",
       "Female                 Adastirin33      4.48\n",
       "                       Aerithllora36    4.32\n",
       "                       Aethedru70       3.54\n",
       "                       Aidain51         3.45\n",
       "                       Aiduesu86        4.48\n",
       "                                        ... \n",
       "Other / Non-Disclosed  Lirtim36         1.33\n",
       "                       Maluncil97       2.64\n",
       "                       Rairith81        2.22\n",
       "                       Siarithria38     3.46\n",
       "                       Sundim98         4.75\n",
       "Name: Average Purchases Per Person, Length: 576, dtype: float64"
      ]
     },
     "execution_count": 208,
     "metadata": {},
     "output_type": "execute_result"
    }
   ],
   "source": [
    "#Average Total Purchases per Person by Gender\n",
    "\n",
    "Avg_Purchases_Per = df_purchase_data.groupby([\"Gender\",\"SN\"]).mean()[\"Price\"].rename(\"Average Purchases Per Person\")\n",
    "Avg_Purchases_Per = Avg_Purchases_Per.round(2)\n",
    "Avg_Purchases_Per"
   ]
  },
  {
   "cell_type": "code",
   "execution_count": 178,
   "metadata": {},
   "outputs": [
    {
     "data": {
      "text/plain": [
       "Gender  SN           \n",
       "Female  Adastirin33      4.480000\n",
       "        Aerithllora36    4.320000\n",
       "        Aethedru70       3.540000\n",
       "        Aidain51         3.450000\n",
       "        Aiduesu86        4.480000\n",
       "                           ...   \n",
       "        Wailin72         2.730000\n",
       "        Yana46           3.550000\n",
       "        Yarithrin84      4.140000\n",
       "        Yathecal82       2.073333\n",
       "        Yoishirrala98    4.580000\n",
       "Name: Price, Length: 81, dtype: float64"
      ]
     },
     "execution_count": 178,
     "metadata": {},
     "output_type": "execute_result"
    }
   ],
   "source": [
    "#For females, determine Average Purchase Total Per Person\n",
    "\n",
    "df_avg_tot_purch[df_avg_tot_purch.index.isin([\"Female\"], level=\"Gender\")]"
   ]
  },
  {
   "cell_type": "code",
   "execution_count": 282,
   "metadata": {},
   "outputs": [
    {
     "data": {
      "text/plain": [
       "15"
      ]
     },
     "execution_count": 282,
     "metadata": {},
     "output_type": "execute_result"
    }
   ],
   "source": [
    "#For unknown gender, determine\n",
    "#Purchase Count, Average Purchase Price, Total Purchase Value, Average Purchase Total Per Person\n",
    "\n",
    "other_gender_purchase = df_purchase_data.loc[df_purchase_data[\"Gender\"] == \"Other / Non-Disclosed\", :]\n",
    "other_gender_purchase = len(other_gender_purchase)\n",
    "other_gender_purchase"
   ]
  },
  {
   "cell_type": "code",
   "execution_count": 283,
   "metadata": {},
   "outputs": [
    {
     "data": {
      "text/plain": [
       "1.3636363636363635"
      ]
     },
     "execution_count": 283,
     "metadata": {},
     "output_type": "execute_result"
    }
   ],
   "source": [
    "#For unknown gender, determine Average Purchase Price\n",
    "\n",
    "o_avg_purch = other_gender_purchase/num_other\n",
    "o_avg_purch\n",
    "\n",
    "#round up to two decimals?"
   ]
  },
  {
   "cell_type": "code",
   "execution_count": 284,
   "metadata": {},
   "outputs": [
    {
     "data": {
      "text/plain": [
       "12"
      ]
     },
     "execution_count": 284,
     "metadata": {},
     "output_type": "execute_result"
    }
   ],
   "source": [
    "#For unknown gender, determine Total Purchase Value\n",
    "\n",
    "tot_f_purch = unique_genders_purch[\"Other / Non-Disclosed\"]\n",
    "tot_f_purch"
   ]
  },
  {
   "cell_type": "code",
   "execution_count": 285,
   "metadata": {},
   "outputs": [
    {
     "data": {
      "text/plain": [
       "SN            Gender               \n",
       "Airi27        Other / Non-Disclosed    3.450\n",
       "Chanosian48   Other / Non-Disclosed    3.760\n",
       "Eodaisu60     Other / Non-Disclosed    3.940\n",
       "Haerithp41    Other / Non-Disclosed    4.400\n",
       "Idairin51     Other / Non-Disclosed    3.500\n",
       "Jiskirran77   Other / Non-Disclosed    3.390\n",
       "Lirtim36      Other / Non-Disclosed    1.330\n",
       "Maluncil97    Other / Non-Disclosed    2.640\n",
       "Rairith81     Other / Non-Disclosed    2.220\n",
       "Siarithria38  Other / Non-Disclosed    3.455\n",
       "Sundim98      Other / Non-Disclosed    4.750\n",
       "Name: Price, dtype: float64"
      ]
     },
     "execution_count": 285,
     "metadata": {},
     "output_type": "execute_result"
    }
   ],
   "source": [
    "#For unknown gender, determine Average Purchase Total Per Person\n",
    "\n",
    "df_avg_tot_purch[df_avg_tot_purch.index.isin([\"Other / Non-Disclosed\"], level=\"Gender\")]"
   ]
  },
  {
   "cell_type": "code",
   "execution_count": 286,
   "metadata": {},
   "outputs": [],
   "source": [
    "#ANALYZE AGE DEMOGRAPHICS:"
   ]
  },
  {
   "cell_type": "code",
   "execution_count": 287,
   "metadata": {},
   "outputs": [
    {
     "name": "stdout",
     "output_type": "stream",
     "text": [
      "minimum value in column 'Age':  7\n"
     ]
    }
   ],
   "source": [
    "#Determine total age range\n",
    "\n",
    "#minimum age\n",
    "minValue = df_purchase_data[\"Age\"].min()\n",
    "print(\"minimum value in column 'Age': \" , minValue)"
   ]
  },
  {
   "cell_type": "code",
   "execution_count": 288,
   "metadata": {},
   "outputs": [
    {
     "name": "stdout",
     "output_type": "stream",
     "text": [
      "maximum value in column 'Age':  45\n"
     ]
    }
   ],
   "source": [
    "#maximum age\n",
    "maxValue = df_purchase_data[\"Age\"].max()\n",
    "print(\"maximum value in column 'Age': \" , maxValue)"
   ]
  },
  {
   "cell_type": "code",
   "execution_count": 289,
   "metadata": {
    "scrolled": true
   },
   "outputs": [
    {
     "data": {
      "text/html": [
       "<div>\n",
       "<style scoped>\n",
       "    .dataframe tbody tr th:only-of-type {\n",
       "        vertical-align: middle;\n",
       "    }\n",
       "\n",
       "    .dataframe tbody tr th {\n",
       "        vertical-align: top;\n",
       "    }\n",
       "\n",
       "    .dataframe thead th {\n",
       "        text-align: right;\n",
       "    }\n",
       "</style>\n",
       "<table border=\"1\" class=\"dataframe\">\n",
       "  <thead>\n",
       "    <tr style=\"text-align: right;\">\n",
       "      <th></th>\n",
       "      <th>Purchase_ID</th>\n",
       "      <th>SN</th>\n",
       "      <th>Age</th>\n",
       "      <th>Gender</th>\n",
       "      <th>Item_ID</th>\n",
       "      <th>Item_Name</th>\n",
       "      <th>Price</th>\n",
       "      <th>Age Groups</th>\n",
       "    </tr>\n",
       "  </thead>\n",
       "  <tbody>\n",
       "    <tr>\n",
       "      <th>0</th>\n",
       "      <td>0</td>\n",
       "      <td>Lisim78</td>\n",
       "      <td>20</td>\n",
       "      <td>Male</td>\n",
       "      <td>108</td>\n",
       "      <td>Extraction, Quickblade Of Trembling Hands</td>\n",
       "      <td>3.53</td>\n",
       "      <td>19-22</td>\n",
       "    </tr>\n",
       "    <tr>\n",
       "      <th>1</th>\n",
       "      <td>1</td>\n",
       "      <td>Lisovynya38</td>\n",
       "      <td>40</td>\n",
       "      <td>Male</td>\n",
       "      <td>143</td>\n",
       "      <td>Frenzied Scimitar</td>\n",
       "      <td>1.56</td>\n",
       "      <td>39-42</td>\n",
       "    </tr>\n",
       "    <tr>\n",
       "      <th>2</th>\n",
       "      <td>2</td>\n",
       "      <td>Ithergue48</td>\n",
       "      <td>24</td>\n",
       "      <td>Male</td>\n",
       "      <td>92</td>\n",
       "      <td>Final Critic</td>\n",
       "      <td>4.88</td>\n",
       "      <td>23-26</td>\n",
       "    </tr>\n",
       "    <tr>\n",
       "      <th>3</th>\n",
       "      <td>3</td>\n",
       "      <td>Chamassasya86</td>\n",
       "      <td>24</td>\n",
       "      <td>Male</td>\n",
       "      <td>100</td>\n",
       "      <td>Blindscythe</td>\n",
       "      <td>3.27</td>\n",
       "      <td>23-26</td>\n",
       "    </tr>\n",
       "    <tr>\n",
       "      <th>4</th>\n",
       "      <td>4</td>\n",
       "      <td>Iskosia90</td>\n",
       "      <td>23</td>\n",
       "      <td>Male</td>\n",
       "      <td>131</td>\n",
       "      <td>Fury</td>\n",
       "      <td>1.44</td>\n",
       "      <td>23-26</td>\n",
       "    </tr>\n",
       "    <tr>\n",
       "      <th>...</th>\n",
       "      <td>...</td>\n",
       "      <td>...</td>\n",
       "      <td>...</td>\n",
       "      <td>...</td>\n",
       "      <td>...</td>\n",
       "      <td>...</td>\n",
       "      <td>...</td>\n",
       "      <td>...</td>\n",
       "    </tr>\n",
       "    <tr>\n",
       "      <th>775</th>\n",
       "      <td>775</td>\n",
       "      <td>Aethedru70</td>\n",
       "      <td>21</td>\n",
       "      <td>Female</td>\n",
       "      <td>60</td>\n",
       "      <td>Wolf</td>\n",
       "      <td>3.54</td>\n",
       "      <td>19-22</td>\n",
       "    </tr>\n",
       "    <tr>\n",
       "      <th>776</th>\n",
       "      <td>776</td>\n",
       "      <td>Iral74</td>\n",
       "      <td>21</td>\n",
       "      <td>Male</td>\n",
       "      <td>164</td>\n",
       "      <td>Exiled Doomblade</td>\n",
       "      <td>1.63</td>\n",
       "      <td>19-22</td>\n",
       "    </tr>\n",
       "    <tr>\n",
       "      <th>777</th>\n",
       "      <td>777</td>\n",
       "      <td>Yathecal72</td>\n",
       "      <td>20</td>\n",
       "      <td>Male</td>\n",
       "      <td>67</td>\n",
       "      <td>Celeste, Incarnation of the Corrupted</td>\n",
       "      <td>3.46</td>\n",
       "      <td>19-22</td>\n",
       "    </tr>\n",
       "    <tr>\n",
       "      <th>778</th>\n",
       "      <td>778</td>\n",
       "      <td>Sisur91</td>\n",
       "      <td>7</td>\n",
       "      <td>Male</td>\n",
       "      <td>92</td>\n",
       "      <td>Final Critic</td>\n",
       "      <td>4.19</td>\n",
       "      <td>7-10</td>\n",
       "    </tr>\n",
       "    <tr>\n",
       "      <th>779</th>\n",
       "      <td>779</td>\n",
       "      <td>Ennrian78</td>\n",
       "      <td>24</td>\n",
       "      <td>Male</td>\n",
       "      <td>50</td>\n",
       "      <td>Dawn</td>\n",
       "      <td>4.60</td>\n",
       "      <td>23-26</td>\n",
       "    </tr>\n",
       "  </tbody>\n",
       "</table>\n",
       "<p>780 rows × 8 columns</p>\n",
       "</div>"
      ],
      "text/plain": [
       "     Purchase_ID             SN  Age  Gender  Item_ID  \\\n",
       "0              0        Lisim78   20    Male      108   \n",
       "1              1    Lisovynya38   40    Male      143   \n",
       "2              2     Ithergue48   24    Male       92   \n",
       "3              3  Chamassasya86   24    Male      100   \n",
       "4              4      Iskosia90   23    Male      131   \n",
       "..           ...            ...  ...     ...      ...   \n",
       "775          775     Aethedru70   21  Female       60   \n",
       "776          776         Iral74   21    Male      164   \n",
       "777          777     Yathecal72   20    Male       67   \n",
       "778          778        Sisur91    7    Male       92   \n",
       "779          779      Ennrian78   24    Male       50   \n",
       "\n",
       "                                     Item_Name  Price Age Groups  \n",
       "0    Extraction, Quickblade Of Trembling Hands   3.53      19-22  \n",
       "1                            Frenzied Scimitar   1.56      39-42  \n",
       "2                                 Final Critic   4.88      23-26  \n",
       "3                                  Blindscythe   3.27      23-26  \n",
       "4                                         Fury   1.44      23-26  \n",
       "..                                         ...    ...        ...  \n",
       "775                                       Wolf   3.54      19-22  \n",
       "776                           Exiled Doomblade   1.63      19-22  \n",
       "777      Celeste, Incarnation of the Corrupted   3.46      19-22  \n",
       "778                               Final Critic   4.19       7-10  \n",
       "779                                       Dawn   4.60      23-26  \n",
       "\n",
       "[780 rows x 8 columns]"
      ]
     },
     "execution_count": 289,
     "metadata": {},
     "output_type": "execute_result"
    }
   ],
   "source": [
    "#Break age groups into bins of 4 years\n",
    "# Create the bins in which Data will be held\n",
    "# Bins are 0, 10, 14, 18, 22, 26, 30, 34, 38, 42, 45   \n",
    "bins = [0, 10, 14, 18, 22, 26, 30, 34, 38, 42, 45]\n",
    "\n",
    "# Create the names for the bins\n",
    "group_names = [\"7-10\", \"11-14\", \"15-18\", \"19-22\", \"23-26\", \"27-30\", \"31-34\", \"35-38\", \"39-42\", \"43+\"]\n",
    "df_purchase_data[\"Age Groups\"] = pd.cut(df_purchase_data[\"Age\"], bins, labels=group_names, include_lowest=True)\n",
    "df_purchase_data\n"
   ]
  },
  {
   "cell_type": "code",
   "execution_count": 290,
   "metadata": {},
   "outputs": [
    {
     "ename": "SyntaxError",
     "evalue": "invalid syntax (<ipython-input-290-5ad5f45ad7bf>, line 11)",
     "output_type": "error",
     "traceback": [
      "\u001b[0;36m  File \u001b[0;32m\"<ipython-input-290-5ad5f45ad7bf>\"\u001b[0;36m, line \u001b[0;32m11\u001b[0m\n\u001b[0;31m    test = pd.DataFrame (df_purchase_data, columns = )\u001b[0m\n\u001b[0m                                                     ^\u001b[0m\n\u001b[0;31mSyntaxError\u001b[0m\u001b[0;31m:\u001b[0m invalid syntax\n"
     ]
    }
   ],
   "source": [
    "#Within age bins, get purchase count\n",
    "\n",
    "#Creating a group based off of the bins/clean data of NaN's\n",
    "#df_age_groups = df_purchase_data.apply(pd.to_numeric, errors = 'coerce')\n",
    "#df_age_groups = df_purchase_data.dropna()\n",
    "#df_age_groups = df_purchase_data.reset_index(drop=True)\n",
    "#df_avg_tot_purch = df_purchase_data.groupby([\"SN\", \"Gender\"])[\"Price\"].agg(lambda x: x.unique().mean())\n",
    "#df_avg_tot_purch.head()\n",
    "\n",
    "#df_avg_tot_purch[df_avg_tot_purch.index.isin([\"Male\"], level=\"Gender\")]\n",
    "test = pd.DataFrame (df_purchase_data, columns = )\n",
    "\n",
    "df_age_purch = df_purchase_data.groupby([\"Age Groups\", \"Purchase_ID\"]).count()\n",
    "print(df_age_purch)\n",
    "\n",
    "#HOW DO I GET RID OF ALL THESE NaNs?????? I tried a million ways."
   ]
  },
  {
   "cell_type": "code",
   "execution_count": 291,
   "metadata": {},
   "outputs": [],
   "source": [
    "#Within age bin 1, get average purchase price total per person\n",
    "\n",
    "#df_avg_tot_purch = df_purchase_data.groupby([\"SN\", \"Gender\"])[\"Price\"].agg(lambda x: x.unique().mean())\n",
    "#df_avg_tot_purch.head()\n",
    "\n",
    "#df_avg_tot_purch[df_avg_tot_purch.index.isin([\"Male\"], level=\"Gender\")]"
   ]
  },
  {
   "cell_type": "code",
   "execution_count": 292,
   "metadata": {},
   "outputs": [],
   "source": [
    "#Within age groups, get average purchase total"
   ]
  },
  {
   "cell_type": "code",
   "execution_count": 293,
   "metadata": {},
   "outputs": [],
   "source": [
    "#ANALYZE TOP SPENDERS:"
   ]
  },
  {
   "cell_type": "code",
   "execution_count": 315,
   "metadata": {},
   "outputs": [
    {
     "data": {
      "text/html": [
       "<div>\n",
       "<style scoped>\n",
       "    .dataframe tbody tr th:only-of-type {\n",
       "        vertical-align: middle;\n",
       "    }\n",
       "\n",
       "    .dataframe tbody tr th {\n",
       "        vertical-align: top;\n",
       "    }\n",
       "\n",
       "    .dataframe thead th {\n",
       "        text-align: right;\n",
       "    }\n",
       "</style>\n",
       "<table border=\"1\" class=\"dataframe\">\n",
       "  <thead>\n",
       "    <tr style=\"text-align: right;\">\n",
       "      <th></th>\n",
       "      <th>Purchase_ID</th>\n",
       "      <th>SN</th>\n",
       "      <th>Age</th>\n",
       "      <th>Gender</th>\n",
       "      <th>Item_ID</th>\n",
       "      <th>Item_Name</th>\n",
       "      <th>Price</th>\n",
       "      <th>Age Groups</th>\n",
       "    </tr>\n",
       "  </thead>\n",
       "  <tbody>\n",
       "    <tr>\n",
       "      <th>554</th>\n",
       "      <td>554</td>\n",
       "      <td>Dyally87</td>\n",
       "      <td>22</td>\n",
       "      <td>Male</td>\n",
       "      <td>63</td>\n",
       "      <td>Stormfury Mace</td>\n",
       "      <td>4.99</td>\n",
       "      <td>19-22</td>\n",
       "    </tr>\n",
       "    <tr>\n",
       "      <th>189</th>\n",
       "      <td>189</td>\n",
       "      <td>Hiasri33</td>\n",
       "      <td>23</td>\n",
       "      <td>Male</td>\n",
       "      <td>63</td>\n",
       "      <td>Stormfury Mace</td>\n",
       "      <td>4.99</td>\n",
       "      <td>23-26</td>\n",
       "    </tr>\n",
       "    <tr>\n",
       "      <th>110</th>\n",
       "      <td>110</td>\n",
       "      <td>Ririp86</td>\n",
       "      <td>25</td>\n",
       "      <td>Male</td>\n",
       "      <td>139</td>\n",
       "      <td>Mercy, Katana of Dismay</td>\n",
       "      <td>4.94</td>\n",
       "      <td>23-26</td>\n",
       "    </tr>\n",
       "    <tr>\n",
       "      <th>246</th>\n",
       "      <td>246</td>\n",
       "      <td>Lirtilsa71</td>\n",
       "      <td>24</td>\n",
       "      <td>Male</td>\n",
       "      <td>139</td>\n",
       "      <td>Mercy, Katana of Dismay</td>\n",
       "      <td>4.94</td>\n",
       "      <td>23-26</td>\n",
       "    </tr>\n",
       "    <tr>\n",
       "      <th>493</th>\n",
       "      <td>493</td>\n",
       "      <td>Chanirrasta87</td>\n",
       "      <td>14</td>\n",
       "      <td>Male</td>\n",
       "      <td>139</td>\n",
       "      <td>Mercy, Katana of Dismay</td>\n",
       "      <td>4.94</td>\n",
       "      <td>11-14</td>\n",
       "    </tr>\n",
       "  </tbody>\n",
       "</table>\n",
       "</div>"
      ],
      "text/plain": [
       "     Purchase_ID             SN  Age Gender  Item_ID                Item_Name  \\\n",
       "554          554       Dyally87   22   Male       63           Stormfury Mace   \n",
       "189          189       Hiasri33   23   Male       63           Stormfury Mace   \n",
       "110          110        Ririp86   25   Male      139  Mercy, Katana of Dismay   \n",
       "246          246     Lirtilsa71   24   Male      139  Mercy, Katana of Dismay   \n",
       "493          493  Chanirrasta87   14   Male      139  Mercy, Katana of Dismay   \n",
       "\n",
       "     Price Age Groups  \n",
       "554   4.99      19-22  \n",
       "189   4.99      23-26  \n",
       "110   4.94      23-26  \n",
       "246   4.94      23-26  \n",
       "493   4.94      11-14  "
      ]
     },
     "execution_count": 315,
     "metadata": {},
     "output_type": "execute_result"
    }
   ],
   "source": [
    "#Determine top 5 spenders by purchase price\n",
    "\n",
    "top_spenders_df = df_purchase_data.sort_values(by = ['Price'], ascending=[False])\n",
    "\n",
    "df_test = top_spenders_df.head(5)\n",
    "top_spenders_df.head(5)"
   ]
  },
  {
   "cell_type": "code",
   "execution_count": 332,
   "metadata": {},
   "outputs": [
    {
     "data": {
      "text/html": [
       "<div>\n",
       "<style scoped>\n",
       "    .dataframe tbody tr th:only-of-type {\n",
       "        vertical-align: middle;\n",
       "    }\n",
       "\n",
       "    .dataframe tbody tr th {\n",
       "        vertical-align: top;\n",
       "    }\n",
       "\n",
       "    .dataframe thead th {\n",
       "        text-align: right;\n",
       "    }\n",
       "</style>\n",
       "<table border=\"1\" class=\"dataframe\">\n",
       "  <thead>\n",
       "    <tr style=\"text-align: right;\">\n",
       "      <th></th>\n",
       "      <th>SN</th>\n",
       "      <th>Purchase_Count</th>\n",
       "      <th>Avg_Purchase_Price</th>\n",
       "      <th>Total Purchase Price</th>\n",
       "    </tr>\n",
       "  </thead>\n",
       "  <tbody>\n",
       "    <tr>\n",
       "      <th>554</th>\n",
       "      <td>Dyally87</td>\n",
       "      <td>5</td>\n",
       "      <td>0.998</td>\n",
       "      <td>4.99</td>\n",
       "    </tr>\n",
       "    <tr>\n",
       "      <th>189</th>\n",
       "      <td>Hiasri33</td>\n",
       "      <td>5</td>\n",
       "      <td>0.998</td>\n",
       "      <td>4.99</td>\n",
       "    </tr>\n",
       "    <tr>\n",
       "      <th>110</th>\n",
       "      <td>Ririp86</td>\n",
       "      <td>5</td>\n",
       "      <td>0.988</td>\n",
       "      <td>4.94</td>\n",
       "    </tr>\n",
       "    <tr>\n",
       "      <th>246</th>\n",
       "      <td>Lirtilsa71</td>\n",
       "      <td>5</td>\n",
       "      <td>0.988</td>\n",
       "      <td>4.94</td>\n",
       "    </tr>\n",
       "    <tr>\n",
       "      <th>493</th>\n",
       "      <td>Chanirrasta87</td>\n",
       "      <td>5</td>\n",
       "      <td>0.988</td>\n",
       "      <td>4.94</td>\n",
       "    </tr>\n",
       "  </tbody>\n",
       "</table>\n",
       "</div>"
      ],
      "text/plain": [
       "                SN  Purchase_Count  Avg_Purchase_Price  Total Purchase Price\n",
       "554       Dyally87               5               0.998                  4.99\n",
       "189       Hiasri33               5               0.998                  4.99\n",
       "110        Ririp86               5               0.988                  4.94\n",
       "246     Lirtilsa71               5               0.988                  4.94\n",
       "493  Chanirrasta87               5               0.988                  4.94"
      ]
     },
     "execution_count": 332,
     "metadata": {},
     "output_type": "execute_result"
    }
   ],
   "source": [
    "#List them in a table with the following information\n",
    "#SN, Purchase Count, Average Purchase Price, Total Purchase Price\n",
    "#drop columns not needed from original table\n",
    "df_top_spenders_table = pd.DataFrame({\n",
    "    \"SN\":df_test[\"SN\"], \n",
    "    \"Purchase_Count\":df_test[\"Purchase_ID\"].count(),\n",
    "    \"Avg_Purchase_Price\":[4.99/5, 4.99/5, 4.94/5, 4.94/5, 4.94/5],\n",
    "    \"Total Purchase Price\":df_test[\"Price\"]\n",
    "})\n",
    "df_top_spenders_table\n"
   ]
  },
  {
   "cell_type": "code",
   "execution_count": null,
   "metadata": {},
   "outputs": [],
   "source": [
    "#DETERMINE MOST POPULAR ITEMS"
   ]
  },
  {
   "cell_type": "code",
   "execution_count": 340,
   "metadata": {},
   "outputs": [
    {
     "data": {
      "text/html": [
       "<div>\n",
       "<style scoped>\n",
       "    .dataframe tbody tr th:only-of-type {\n",
       "        vertical-align: middle;\n",
       "    }\n",
       "\n",
       "    .dataframe tbody tr th {\n",
       "        vertical-align: top;\n",
       "    }\n",
       "\n",
       "    .dataframe thead th {\n",
       "        text-align: right;\n",
       "    }\n",
       "</style>\n",
       "<table border=\"1\" class=\"dataframe\">\n",
       "  <thead>\n",
       "    <tr style=\"text-align: right;\">\n",
       "      <th></th>\n",
       "      <th>Purchase_ID</th>\n",
       "      <th>SN</th>\n",
       "      <th>Age</th>\n",
       "      <th>Gender</th>\n",
       "      <th>Item_ID</th>\n",
       "      <th>Price</th>\n",
       "      <th>Age Groups</th>\n",
       "    </tr>\n",
       "    <tr>\n",
       "      <th>Item_Name</th>\n",
       "      <th></th>\n",
       "      <th></th>\n",
       "      <th></th>\n",
       "      <th></th>\n",
       "      <th></th>\n",
       "      <th></th>\n",
       "      <th></th>\n",
       "    </tr>\n",
       "  </thead>\n",
       "  <tbody>\n",
       "    <tr>\n",
       "      <th>Abyssal Shard</th>\n",
       "      <td>5</td>\n",
       "      <td>5</td>\n",
       "      <td>5</td>\n",
       "      <td>5</td>\n",
       "      <td>5</td>\n",
       "      <td>5</td>\n",
       "      <td>5</td>\n",
       "    </tr>\n",
       "    <tr>\n",
       "      <th>Aetherius, Boon of the Blessed</th>\n",
       "      <td>5</td>\n",
       "      <td>5</td>\n",
       "      <td>5</td>\n",
       "      <td>5</td>\n",
       "      <td>5</td>\n",
       "      <td>5</td>\n",
       "      <td>5</td>\n",
       "    </tr>\n",
       "    <tr>\n",
       "      <th>Agatha</th>\n",
       "      <td>6</td>\n",
       "      <td>6</td>\n",
       "      <td>6</td>\n",
       "      <td>6</td>\n",
       "      <td>6</td>\n",
       "      <td>6</td>\n",
       "      <td>6</td>\n",
       "    </tr>\n",
       "    <tr>\n",
       "      <th>Alpha</th>\n",
       "      <td>3</td>\n",
       "      <td>3</td>\n",
       "      <td>3</td>\n",
       "      <td>3</td>\n",
       "      <td>3</td>\n",
       "      <td>3</td>\n",
       "      <td>3</td>\n",
       "    </tr>\n",
       "    <tr>\n",
       "      <th>Alpha, Oath of Zeal</th>\n",
       "      <td>3</td>\n",
       "      <td>3</td>\n",
       "      <td>3</td>\n",
       "      <td>3</td>\n",
       "      <td>3</td>\n",
       "      <td>3</td>\n",
       "      <td>3</td>\n",
       "    </tr>\n",
       "  </tbody>\n",
       "</table>\n",
       "</div>"
      ],
      "text/plain": [
       "                                Purchase_ID  SN  Age  Gender  Item_ID  Price  \\\n",
       "Item_Name                                                                      \n",
       "Abyssal Shard                             5   5    5       5        5      5   \n",
       "Aetherius, Boon of the Blessed            5   5    5       5        5      5   \n",
       "Agatha                                    6   6    6       6        6      6   \n",
       "Alpha                                     3   3    3       3        3      3   \n",
       "Alpha, Oath of Zeal                       3   3    3       3        3      3   \n",
       "\n",
       "                                Age Groups  \n",
       "Item_Name                                   \n",
       "Abyssal Shard                            5  \n",
       "Aetherius, Boon of the Blessed           5  \n",
       "Agatha                                   6  \n",
       "Alpha                                    3  \n",
       "Alpha, Oath of Zeal                      3  "
      ]
     },
     "execution_count": 340,
     "metadata": {},
     "output_type": "execute_result"
    }
   ],
   "source": [
    "#Identify the 5 most popular items by purchase count\n",
    "num_items_df = df_purchase_data.groupby(\"Item_Name\").count()\n",
    "pop_items_df = df_purchase_data.sort_values(by = ['Item_Name'], ascending=[False])\n",
    "num_items_df.head(5)"
   ]
  },
  {
   "cell_type": "code",
   "execution_count": 352,
   "metadata": {},
   "outputs": [
    {
     "data": {
      "text/html": [
       "<div>\n",
       "<style scoped>\n",
       "    .dataframe tbody tr th:only-of-type {\n",
       "        vertical-align: middle;\n",
       "    }\n",
       "\n",
       "    .dataframe tbody tr th {\n",
       "        vertical-align: top;\n",
       "    }\n",
       "\n",
       "    .dataframe thead th {\n",
       "        text-align: right;\n",
       "    }\n",
       "</style>\n",
       "<table border=\"1\" class=\"dataframe\">\n",
       "  <thead>\n",
       "    <tr style=\"text-align: right;\">\n",
       "      <th></th>\n",
       "      <th>Item_ID</th>\n",
       "      <th>Purchase_Count</th>\n",
       "      <th>Item Price</th>\n",
       "      <th>Total Purchase Value</th>\n",
       "    </tr>\n",
       "  </thead>\n",
       "  <tbody>\n",
       "    <tr>\n",
       "      <th>0</th>\n",
       "      <td>162</td>\n",
       "      <td>5</td>\n",
       "      <td>2.67</td>\n",
       "      <td>13.35</td>\n",
       "    </tr>\n",
       "    <tr>\n",
       "      <th>1</th>\n",
       "      <td>137</td>\n",
       "      <td>5</td>\n",
       "      <td>3.39</td>\n",
       "      <td>16.95</td>\n",
       "    </tr>\n",
       "    <tr>\n",
       "      <th>2</th>\n",
       "      <td>120</td>\n",
       "      <td>6</td>\n",
       "      <td>3.08</td>\n",
       "      <td>18.48</td>\n",
       "    </tr>\n",
       "    <tr>\n",
       "      <th>3</th>\n",
       "      <td>130</td>\n",
       "      <td>3</td>\n",
       "      <td>2.07</td>\n",
       "      <td>6.21</td>\n",
       "    </tr>\n",
       "    <tr>\n",
       "      <th>4</th>\n",
       "      <td>79</td>\n",
       "      <td>3</td>\n",
       "      <td>4.05</td>\n",
       "      <td>12.05</td>\n",
       "    </tr>\n",
       "  </tbody>\n",
       "</table>\n",
       "</div>"
      ],
      "text/plain": [
       "   Item_ID  Purchase_Count  Item Price  Total Purchase Value\n",
       "0      162               5        2.67                 13.35\n",
       "1      137               5        3.39                 16.95\n",
       "2      120               6        3.08                 18.48\n",
       "3      130               3        2.07                  6.21\n",
       "4       79               3        4.05                 12.05"
      ]
     },
     "execution_count": 352,
     "metadata": {},
     "output_type": "execute_result"
    }
   ],
   "source": [
    "#List them in a table with the following information\n",
    "#Item ID, Item Name, #Purchase Count, #Item Price, #Total Purchase Value\n",
    "df_pop_items_table = pd.DataFrame({\n",
    "    \"Item_ID\":[162, 137, 120, 130, 79], \n",
    "    \"Purchase_Count\":[5,5,6,3,3],\n",
    "    \"Item Price\":[2.67, 3.39, 3.08, 2.07, 4.05],\n",
    "    \"Total Purchase Value\":[13.35, 16.95, 18.48, 6.21, 12.05]\n",
    "})\n",
    "df_pop_items_table\n"
   ]
  },
  {
   "cell_type": "code",
   "execution_count": null,
   "metadata": {},
   "outputs": [],
   "source": [
    "#DETERMINE MOST PROFITABLE ITEMS"
   ]
  },
  {
   "cell_type": "code",
   "execution_count": 371,
   "metadata": {},
   "outputs": [
    {
     "data": {
      "text/html": [
       "<div>\n",
       "<style scoped>\n",
       "    .dataframe tbody tr th:only-of-type {\n",
       "        vertical-align: middle;\n",
       "    }\n",
       "\n",
       "    .dataframe tbody tr th {\n",
       "        vertical-align: top;\n",
       "    }\n",
       "\n",
       "    .dataframe thead th {\n",
       "        text-align: right;\n",
       "    }\n",
       "</style>\n",
       "<table border=\"1\" class=\"dataframe\">\n",
       "  <thead>\n",
       "    <tr style=\"text-align: right;\">\n",
       "      <th></th>\n",
       "      <th>Purchase_ID</th>\n",
       "      <th>SN</th>\n",
       "      <th>Age</th>\n",
       "      <th>Gender</th>\n",
       "      <th>Item_ID</th>\n",
       "      <th>Item_Name</th>\n",
       "      <th>Price</th>\n",
       "      <th>Age Groups</th>\n",
       "    </tr>\n",
       "  </thead>\n",
       "  <tbody>\n",
       "    <tr>\n",
       "      <th>554</th>\n",
       "      <td>554</td>\n",
       "      <td>Dyally87</td>\n",
       "      <td>22</td>\n",
       "      <td>Male</td>\n",
       "      <td>63</td>\n",
       "      <td>Stormfury Mace</td>\n",
       "      <td>4.99</td>\n",
       "      <td>19-22</td>\n",
       "    </tr>\n",
       "    <tr>\n",
       "      <th>189</th>\n",
       "      <td>189</td>\n",
       "      <td>Hiasri33</td>\n",
       "      <td>23</td>\n",
       "      <td>Male</td>\n",
       "      <td>63</td>\n",
       "      <td>Stormfury Mace</td>\n",
       "      <td>4.99</td>\n",
       "      <td>23-26</td>\n",
       "    </tr>\n",
       "    <tr>\n",
       "      <th>110</th>\n",
       "      <td>110</td>\n",
       "      <td>Ririp86</td>\n",
       "      <td>25</td>\n",
       "      <td>Male</td>\n",
       "      <td>139</td>\n",
       "      <td>Mercy, Katana of Dismay</td>\n",
       "      <td>4.94</td>\n",
       "      <td>23-26</td>\n",
       "    </tr>\n",
       "    <tr>\n",
       "      <th>246</th>\n",
       "      <td>246</td>\n",
       "      <td>Lirtilsa71</td>\n",
       "      <td>24</td>\n",
       "      <td>Male</td>\n",
       "      <td>139</td>\n",
       "      <td>Mercy, Katana of Dismay</td>\n",
       "      <td>4.94</td>\n",
       "      <td>23-26</td>\n",
       "    </tr>\n",
       "    <tr>\n",
       "      <th>493</th>\n",
       "      <td>493</td>\n",
       "      <td>Chanirrasta87</td>\n",
       "      <td>14</td>\n",
       "      <td>Male</td>\n",
       "      <td>139</td>\n",
       "      <td>Mercy, Katana of Dismay</td>\n",
       "      <td>4.94</td>\n",
       "      <td>11-14</td>\n",
       "    </tr>\n",
       "  </tbody>\n",
       "</table>\n",
       "</div>"
      ],
      "text/plain": [
       "     Purchase_ID             SN  Age Gender  Item_ID                Item_Name  \\\n",
       "554          554       Dyally87   22   Male       63           Stormfury Mace   \n",
       "189          189       Hiasri33   23   Male       63           Stormfury Mace   \n",
       "110          110        Ririp86   25   Male      139  Mercy, Katana of Dismay   \n",
       "246          246     Lirtilsa71   24   Male      139  Mercy, Katana of Dismay   \n",
       "493          493  Chanirrasta87   14   Male      139  Mercy, Katana of Dismay   \n",
       "\n",
       "     Price Age Groups  \n",
       "554   4.99      19-22  \n",
       "189   4.99      23-26  \n",
       "110   4.94      23-26  \n",
       "246   4.94      23-26  \n",
       "493   4.94      11-14  "
      ]
     },
     "execution_count": 371,
     "metadata": {},
     "output_type": "execute_result"
    }
   ],
   "source": [
    "#Identify the 5 most profitable items by total purchase value\n",
    "prof_items_df = df_purchase_data.groupby(\"Price\")[\"Item_Name\"].nunique()\n",
    "profitable_items_df = df_purchase_data.sort_values(by = ['Price'], ascending=[False])\n",
    "\n",
    "profitable_items_df.head(5)"
   ]
  },
  {
   "cell_type": "code",
   "execution_count": null,
   "metadata": {},
   "outputs": [],
   "source": [
    "#List them in a table with the following information\n",
    "#Item ID, Item Name, Purchase Count, Itemm Price, Total Purchase Value"
   ]
  }
 ],
 "metadata": {
  "kernelspec": {
   "display_name": "Python 3",
   "language": "python",
   "name": "python3"
  },
  "language_info": {
   "codemirror_mode": {
    "name": "ipython",
    "version": 3
   },
   "file_extension": ".py",
   "mimetype": "text/x-python",
   "name": "python",
   "nbconvert_exporter": "python",
   "pygments_lexer": "ipython3",
   "version": "3.8.5"
  }
 },
 "nbformat": 4,
 "nbformat_minor": 4
}
