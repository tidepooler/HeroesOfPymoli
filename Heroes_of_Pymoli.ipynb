{
 "cells": [
  {
   "cell_type": "code",
   "execution_count": 7,
   "metadata": {},
   "outputs": [],
   "source": [
    "#import pandas\n",
    "\n",
    "import pandas as pd"
   ]
  },
  {
   "cell_type": "code",
   "execution_count": 8,
   "metadata": {},
   "outputs": [],
   "source": [
    "#Import Modules\n",
    "\n",
    "import os\n",
    "import csv"
   ]
  },
  {
   "cell_type": "code",
   "execution_count": 9,
   "metadata": {},
   "outputs": [],
   "source": [
    "#Set path for file\n",
    "\n",
    "csvpath = os.path.join(\"Resources\", \"purchase_data.csv\")"
   ]
  },
  {
   "cell_type": "code",
   "execution_count": 11,
   "metadata": {},
   "outputs": [
    {
     "data": {
      "text/html": [
       "<div>\n",
       "<style scoped>\n",
       "    .dataframe tbody tr th:only-of-type {\n",
       "        vertical-align: middle;\n",
       "    }\n",
       "\n",
       "    .dataframe tbody tr th {\n",
       "        vertical-align: top;\n",
       "    }\n",
       "\n",
       "    .dataframe thead th {\n",
       "        text-align: right;\n",
       "    }\n",
       "</style>\n",
       "<table border=\"1\" class=\"dataframe\">\n",
       "  <thead>\n",
       "    <tr style=\"text-align: right;\">\n",
       "      <th></th>\n",
       "      <th>Purchase_ID</th>\n",
       "      <th>SN</th>\n",
       "      <th>Age</th>\n",
       "      <th>Gender</th>\n",
       "      <th>Item_ID</th>\n",
       "      <th>Item_Name</th>\n",
       "      <th>Price</th>\n",
       "    </tr>\n",
       "  </thead>\n",
       "  <tbody>\n",
       "    <tr>\n",
       "      <th>0</th>\n",
       "      <td>0</td>\n",
       "      <td>Lisim78</td>\n",
       "      <td>20</td>\n",
       "      <td>Male</td>\n",
       "      <td>108</td>\n",
       "      <td>Extraction, Quickblade Of Trembling Hands</td>\n",
       "      <td>3.53</td>\n",
       "    </tr>\n",
       "    <tr>\n",
       "      <th>1</th>\n",
       "      <td>1</td>\n",
       "      <td>Lisovynya38</td>\n",
       "      <td>40</td>\n",
       "      <td>Male</td>\n",
       "      <td>143</td>\n",
       "      <td>Frenzied Scimitar</td>\n",
       "      <td>1.56</td>\n",
       "    </tr>\n",
       "    <tr>\n",
       "      <th>2</th>\n",
       "      <td>2</td>\n",
       "      <td>Ithergue48</td>\n",
       "      <td>24</td>\n",
       "      <td>Male</td>\n",
       "      <td>92</td>\n",
       "      <td>Final Critic</td>\n",
       "      <td>4.88</td>\n",
       "    </tr>\n",
       "    <tr>\n",
       "      <th>3</th>\n",
       "      <td>3</td>\n",
       "      <td>Chamassasya86</td>\n",
       "      <td>24</td>\n",
       "      <td>Male</td>\n",
       "      <td>100</td>\n",
       "      <td>Blindscythe</td>\n",
       "      <td>3.27</td>\n",
       "    </tr>\n",
       "    <tr>\n",
       "      <th>4</th>\n",
       "      <td>4</td>\n",
       "      <td>Iskosia90</td>\n",
       "      <td>23</td>\n",
       "      <td>Male</td>\n",
       "      <td>131</td>\n",
       "      <td>Fury</td>\n",
       "      <td>1.44</td>\n",
       "    </tr>\n",
       "  </tbody>\n",
       "</table>\n",
       "</div>"
      ],
      "text/plain": [
       "   Purchase_ID             SN  Age Gender  Item_ID  \\\n",
       "0            0        Lisim78   20   Male      108   \n",
       "1            1    Lisovynya38   40   Male      143   \n",
       "2            2     Ithergue48   24   Male       92   \n",
       "3            3  Chamassasya86   24   Male      100   \n",
       "4            4      Iskosia90   23   Male      131   \n",
       "\n",
       "                                   Item_Name  Price  \n",
       "0  Extraction, Quickblade Of Trembling Hands   3.53  \n",
       "1                          Frenzied Scimitar   1.56  \n",
       "2                               Final Critic   4.88  \n",
       "3                                Blindscythe   3.27  \n",
       "4                                       Fury   1.44  "
      ]
     },
     "execution_count": 11,
     "metadata": {},
     "output_type": "execute_result"
    }
   ],
   "source": [
    "#Set table to data frame\n",
    "\n",
    "df_purchase_data = pd.read_csv(csvpath)\n",
    "df_purchase_data.head()"
   ]
  },
  {
   "cell_type": "code",
   "execution_count": 12,
   "metadata": {},
   "outputs": [
    {
     "data": {
      "text/plain": [
       "576"
      ]
     },
     "execution_count": 12,
     "metadata": {},
     "output_type": "execute_result"
    }
   ],
   "source": [
    "#DETERMINE PLAYER COUNT\n",
    "unique_players = df_purchase_data[\"SN\"].unique()\n",
    "player_count = len(unique_players)\n",
    "player_count\n"
   ]
  },
  {
   "cell_type": "code",
   "execution_count": 13,
   "metadata": {},
   "outputs": [],
   "source": [
    "#ANALYZE PURCHASING TOTALS:\n",
    "#Number of Unique Items, Average Purchase Price, Total Number of Purchases, Total Revenue"
   ]
  },
  {
   "cell_type": "code",
   "execution_count": 14,
   "metadata": {},
   "outputs": [
    {
     "data": {
      "text/plain": [
       "179"
      ]
     },
     "execution_count": 14,
     "metadata": {},
     "output_type": "execute_result"
    }
   ],
   "source": [
    "#Number of unique items\n",
    "unique_items = df_purchase_data[\"Item_Name\"].unique()\n",
    "unique_items_ct = len(unique_items)\n",
    "unique_items_ct"
   ]
  },
  {
   "cell_type": "code",
   "execution_count": 15,
   "metadata": {},
   "outputs": [
    {
     "data": {
      "text/plain": [
       "3.050987179487176"
      ]
     },
     "execution_count": 15,
     "metadata": {},
     "output_type": "execute_result"
    }
   ],
   "source": [
    "#Average Purchase Price:\n",
    "\n",
    "purchase_price = df_purchase_data[\"Price\"].mean()\n",
    "purchase_price\n",
    "#round up to two decimals?"
   ]
  },
  {
   "cell_type": "code",
   "execution_count": 16,
   "metadata": {},
   "outputs": [],
   "source": [
    "#ANALYZE GENDER DEMOGRAPHICS:\n",
    "# % and Count of Male Players, % and Count of Female Players, % and Count of Other/Non-disclosed Players"
   ]
  },
  {
   "cell_type": "code",
   "execution_count": 17,
   "metadata": {},
   "outputs": [
    {
     "data": {
      "text/plain": [
       "484"
      ]
     },
     "execution_count": 17,
     "metadata": {},
     "output_type": "execute_result"
    }
   ],
   "source": [
    "# Count of Male Players\n",
    "#first, define unique player names by gender\n",
    "unique_genders_df = df_purchase_data.groupby(\"Gender\")[\"SN\"].nunique()\n",
    "#then, call out gender \"male\"\n",
    "num_males = unique_genders_df[\"Male\"]\n",
    "\n",
    "num_males"
   ]
  },
  {
   "cell_type": "code",
   "execution_count": 18,
   "metadata": {},
   "outputs": [
    {
     "data": {
      "text/plain": [
       "84.02777777777779"
      ]
     },
     "execution_count": 18,
     "metadata": {},
     "output_type": "execute_result"
    }
   ],
   "source": [
    "# % of Male Players\n",
    "\n",
    "perc_male = num_males/player_count*100\n",
    "perc_male\n",
    "\n",
    "#round up to two decimals?"
   ]
  },
  {
   "cell_type": "code",
   "execution_count": 19,
   "metadata": {},
   "outputs": [
    {
     "data": {
      "text/plain": [
       "81"
      ]
     },
     "execution_count": 19,
     "metadata": {},
     "output_type": "execute_result"
    }
   ],
   "source": [
    "# % and Count of Female Players\n",
    "\n",
    "#then, call out gender \"female\"\n",
    "num_females = unique_genders_df[\"Female\"]\n",
    "\n",
    "num_females"
   ]
  },
  {
   "cell_type": "code",
   "execution_count": 20,
   "metadata": {},
   "outputs": [
    {
     "data": {
      "text/plain": [
       "14.0625"
      ]
     },
     "execution_count": 20,
     "metadata": {},
     "output_type": "execute_result"
    }
   ],
   "source": [
    "# % of Female Players\n",
    "\n",
    "perc_female = num_females/player_count*100\n",
    "perc_female\n",
    "\n",
    "#round up to two decimals?"
   ]
  },
  {
   "cell_type": "code",
   "execution_count": 21,
   "metadata": {},
   "outputs": [
    {
     "data": {
      "text/plain": [
       "11"
      ]
     },
     "execution_count": 21,
     "metadata": {},
     "output_type": "execute_result"
    }
   ],
   "source": [
    "# Count of Other/Non-disclosed Players\n",
    "\n",
    "#then, call out gender \"Other/Non-Disclosed\"\n",
    "num_other = unique_genders_df[\"Other / Non-Disclosed\"]\n",
    "\n",
    "num_other"
   ]
  },
  {
   "cell_type": "code",
   "execution_count": 22,
   "metadata": {},
   "outputs": [
    {
     "data": {
      "text/plain": [
       "1.9097222222222223"
      ]
     },
     "execution_count": 22,
     "metadata": {},
     "output_type": "execute_result"
    }
   ],
   "source": [
    "# % of Other/Non-disclosed Players\n",
    "\n",
    "perc_unknown = num_other/player_count*100\n",
    "perc_unknown\n",
    "\n",
    "#round up to two decimals?"
   ]
  },
  {
   "cell_type": "code",
   "execution_count": 23,
   "metadata": {},
   "outputs": [],
   "source": [
    "#Analyze Purchasing by Gender: \n",
    "#For each gender, determine\n",
    "#Purchase Count, Average Purchase Price, Total Purchase Value, Average Purchase Total Per Person"
   ]
  },
  {
   "cell_type": "code",
   "execution_count": 24,
   "metadata": {},
   "outputs": [
    {
     "data": {
      "text/plain": [
       "652"
      ]
     },
     "execution_count": 24,
     "metadata": {},
     "output_type": "execute_result"
    }
   ],
   "source": [
    "#For males, determine Purchase Count\n",
    "\n",
    "male_purchase = df_purchase_data.loc[df_purchase_data[\"Gender\"] == \"Male\", :] \n",
    "male_purchase = len(male_purchase) \n",
    "male_purchase"
   ]
  },
  {
   "cell_type": "code",
   "execution_count": 25,
   "metadata": {},
   "outputs": [
    {
     "data": {
      "text/plain": [
       "1.3471074380165289"
      ]
     },
     "execution_count": 25,
     "metadata": {},
     "output_type": "execute_result"
    }
   ],
   "source": [
    "#For males, determine Average Purchase Price\n",
    "\n",
    "m_avg_purch = male_purchase/num_males\n",
    "m_avg_purch\n",
    "\n",
    "#round up to two decimals?"
   ]
  },
  {
   "cell_type": "code",
   "execution_count": 26,
   "metadata": {},
   "outputs": [
    {
     "data": {
      "text/plain": [
       "144"
      ]
     },
     "execution_count": 26,
     "metadata": {},
     "output_type": "execute_result"
    }
   ],
   "source": [
    "#For males, determine Total Purchase Value\n",
    "\n",
    "unique_genders_purch = df_purchase_data.groupby(\"Gender\")[\"Price\"].nunique()\n",
    "\n",
    "#then, call out gender \"male\"\n",
    "tot_m_purch = unique_genders_purch[\"Male\"]\n",
    "tot_m_purch\n"
   ]
  },
  {
   "cell_type": "code",
   "execution_count": 27,
   "metadata": {
    "scrolled": true
   },
   "outputs": [
    {
     "data": {
      "text/plain": [
       "SN            Gender\n",
       "Adairialis76  Male      2.280000\n",
       "Aeda94        Male      4.910000\n",
       "Aela59        Male      4.320000\n",
       "Aelaria33     Male      1.790000\n",
       "Aelastirin39  Male      3.645000\n",
       "                          ...   \n",
       "Yasur85       Male      1.100000\n",
       "Yathecal72    Male      3.460000\n",
       "Yathedeu43    Male      3.010000\n",
       "Zhisrisu83    Male      3.945000\n",
       "Zontibe81     Male      2.676667\n",
       "Name: Price, Length: 484, dtype: float64"
      ]
     },
     "execution_count": 27,
     "metadata": {},
     "output_type": "execute_result"
    }
   ],
   "source": [
    "#For males, determine Total Average Purchase per person\n",
    "\n",
    "df_avg_tot_purch = df_purchase_data.groupby([\"SN\", \"Gender\"])[\"Price\"].agg(lambda x: x.unique().mean())\n",
    "df_avg_tot_purch.head()\n",
    "\n",
    "df_avg_tot_purch[df_avg_tot_purch.index.isin([\"Male\"], level=\"Gender\")]\n"
   ]
  },
  {
   "cell_type": "code",
   "execution_count": 28,
   "metadata": {},
   "outputs": [
    {
     "data": {
      "text/plain": [
       "113"
      ]
     },
     "execution_count": 28,
     "metadata": {},
     "output_type": "execute_result"
    }
   ],
   "source": [
    "#For females, determine Purchase Count\n",
    "\n",
    "female_purchase = df_purchase_data.loc[df_purchase_data[\"Gender\"] == \"Female\", :]\n",
    "\n",
    "female_purchase = len(female_purchase)\n",
    "female_purchase"
   ]
  },
  {
   "cell_type": "code",
   "execution_count": 29,
   "metadata": {},
   "outputs": [
    {
     "data": {
      "text/plain": [
       "1.3950617283950617"
      ]
     },
     "execution_count": 29,
     "metadata": {},
     "output_type": "execute_result"
    }
   ],
   "source": [
    "#For females, determine Average Purchase Price\n",
    "f_avg_purch = female_purchase/num_females\n",
    "f_avg_purch\n",
    "\n",
    "#round up to two decimals?"
   ]
  },
  {
   "cell_type": "code",
   "execution_count": 30,
   "metadata": {},
   "outputs": [
    {
     "data": {
      "text/plain": [
       "79"
      ]
     },
     "execution_count": 30,
     "metadata": {},
     "output_type": "execute_result"
    }
   ],
   "source": [
    "#For females, determine Total Purchase Value\n",
    "\n",
    "tot_f_purch = unique_genders_purch[\"Female\"]\n",
    "tot_f_purch"
   ]
  },
  {
   "cell_type": "code",
   "execution_count": 31,
   "metadata": {},
   "outputs": [
    {
     "data": {
      "text/plain": [
       "SN             Gender\n",
       "Adastirin33    Female    4.480000\n",
       "Aerithllora36  Female    4.320000\n",
       "Aethedru70     Female    3.540000\n",
       "Aidain51       Female    3.450000\n",
       "Aiduesu86      Female    4.480000\n",
       "                           ...   \n",
       "Wailin72       Female    2.730000\n",
       "Yana46         Female    3.550000\n",
       "Yarithrin84    Female    4.140000\n",
       "Yathecal82     Female    2.073333\n",
       "Yoishirrala98  Female    4.580000\n",
       "Name: Price, Length: 81, dtype: float64"
      ]
     },
     "execution_count": 31,
     "metadata": {},
     "output_type": "execute_result"
    }
   ],
   "source": [
    "#For females, determine Average Purchase Total Per Person\n",
    "\n",
    "df_avg_tot_purch[df_avg_tot_purch.index.isin([\"Female\"], level=\"Gender\")]"
   ]
  },
  {
   "cell_type": "code",
   "execution_count": 32,
   "metadata": {},
   "outputs": [
    {
     "data": {
      "text/plain": [
       "15"
      ]
     },
     "execution_count": 32,
     "metadata": {},
     "output_type": "execute_result"
    }
   ],
   "source": [
    "#For unknown gender, determine\n",
    "#Purchase Count, Average Purchase Price, Total Purchase Value, Average Purchase Total Per Person\n",
    "\n",
    "other_gender_purchase = df_purchase_data.loc[df_purchase_data[\"Gender\"] == \"Other / Non-Disclosed\", :]\n",
    "other_gender_purchase = len(other_gender_purchase)\n",
    "other_gender_purchase"
   ]
  },
  {
   "cell_type": "code",
   "execution_count": 33,
   "metadata": {},
   "outputs": [
    {
     "data": {
      "text/plain": [
       "1.3636363636363635"
      ]
     },
     "execution_count": 33,
     "metadata": {},
     "output_type": "execute_result"
    }
   ],
   "source": [
    "#For unknown gender, determine Average Purchase Price\n",
    "\n",
    "o_avg_purch = other_gender_purchase/num_other\n",
    "o_avg_purch\n",
    "\n",
    "#round up to two decimals?"
   ]
  },
  {
   "cell_type": "code",
   "execution_count": 34,
   "metadata": {},
   "outputs": [
    {
     "data": {
      "text/plain": [
       "12"
      ]
     },
     "execution_count": 34,
     "metadata": {},
     "output_type": "execute_result"
    }
   ],
   "source": [
    "#For unknown gender, determine Total Purchase Value\n",
    "\n",
    "tot_f_purch = unique_genders_purch[\"Other / Non-Disclosed\"]\n",
    "tot_f_purch"
   ]
  },
  {
   "cell_type": "code",
   "execution_count": 35,
   "metadata": {},
   "outputs": [
    {
     "data": {
      "text/plain": [
       "SN            Gender               \n",
       "Airi27        Other / Non-Disclosed    3.450\n",
       "Chanosian48   Other / Non-Disclosed    3.760\n",
       "Eodaisu60     Other / Non-Disclosed    3.940\n",
       "Haerithp41    Other / Non-Disclosed    4.400\n",
       "Idairin51     Other / Non-Disclosed    3.500\n",
       "Jiskirran77   Other / Non-Disclosed    3.390\n",
       "Lirtim36      Other / Non-Disclosed    1.330\n",
       "Maluncil97    Other / Non-Disclosed    2.640\n",
       "Rairith81     Other / Non-Disclosed    2.220\n",
       "Siarithria38  Other / Non-Disclosed    3.455\n",
       "Sundim98      Other / Non-Disclosed    4.750\n",
       "Name: Price, dtype: float64"
      ]
     },
     "execution_count": 35,
     "metadata": {},
     "output_type": "execute_result"
    }
   ],
   "source": [
    "#For unknown gender, determine Average Purchase Total Per Person\n",
    "\n",
    "df_avg_tot_purch[df_avg_tot_purch.index.isin([\"Other / Non-Disclosed\"], level=\"Gender\")]"
   ]
  },
  {
   "cell_type": "code",
   "execution_count": 36,
   "metadata": {},
   "outputs": [],
   "source": [
    "#ANALYZE AGE DEMOGRAPHICS:"
   ]
  },
  {
   "cell_type": "code",
   "execution_count": 42,
   "metadata": {},
   "outputs": [
    {
     "name": "stdout",
     "output_type": "stream",
     "text": [
      "minimum value in column 'Age':  7\n"
     ]
    }
   ],
   "source": [
    "#Determine total age range\n",
    "\n",
    "#minimum age\n",
    "minValue = df_purchase_data[\"Age\"].min()\n",
    "print(\"minimum value in column 'Age': \" , minValue)"
   ]
  },
  {
   "cell_type": "code",
   "execution_count": 43,
   "metadata": {},
   "outputs": [
    {
     "name": "stdout",
     "output_type": "stream",
     "text": [
      "minimum value in column 'Age':  45\n"
     ]
    }
   ],
   "source": [
    "#maximum age\n",
    "maxValue = df_purchase_data[\"Age\"].max()\n",
    "print(\"minimum value in column 'Age': \" , maxValue)"
   ]
  },
  {
   "cell_type": "code",
   "execution_count": null,
   "metadata": {},
   "outputs": [],
   "source": [
    "#Break age groups into bins of 4 years: 7-10"
   ]
  },
  {
   "cell_type": "code",
   "execution_count": null,
   "metadata": {},
   "outputs": [],
   "source": [
    "#Break age groups into bins of 4 years: 11-14"
   ]
  },
  {
   "cell_type": "code",
   "execution_count": null,
   "metadata": {},
   "outputs": [],
   "source": [
    "#Break age groups into bins of 4 years: 15-18"
   ]
  },
  {
   "cell_type": "code",
   "execution_count": null,
   "metadata": {},
   "outputs": [],
   "source": [
    "#Break age groups into bins of 4 years: 19-22"
   ]
  },
  {
   "cell_type": "code",
   "execution_count": null,
   "metadata": {},
   "outputs": [],
   "source": [
    "#Break age groups into bins of 4 years: 23-26"
   ]
  },
  {
   "cell_type": "code",
   "execution_count": null,
   "metadata": {},
   "outputs": [],
   "source": [
    "#Break age groups into bins of 4 years: 27-30"
   ]
  },
  {
   "cell_type": "code",
   "execution_count": null,
   "metadata": {},
   "outputs": [],
   "source": [
    "#Break age groups into bins of 4 years: 31-34"
   ]
  },
  {
   "cell_type": "code",
   "execution_count": null,
   "metadata": {},
   "outputs": [],
   "source": [
    "#Break age groups into bins of 4 years: 35-38"
   ]
  },
  {
   "cell_type": "code",
   "execution_count": null,
   "metadata": {},
   "outputs": [],
   "source": [
    "#Break age groups into bins of 4 years: 39-42"
   ]
  },
  {
   "cell_type": "code",
   "execution_count": null,
   "metadata": {},
   "outputs": [],
   "source": [
    "#Break age groups into bins of 4 years: 43-45"
   ]
  },
  {
   "cell_type": "code",
   "execution_count": null,
   "metadata": {},
   "outputs": [],
   "source": [
    "#Within age bin 1, get purchase count"
   ]
  },
  {
   "cell_type": "code",
   "execution_count": null,
   "metadata": {},
   "outputs": [],
   "source": [
    "#Within age bin 2, get purchase count"
   ]
  },
  {
   "cell_type": "code",
   "execution_count": null,
   "metadata": {},
   "outputs": [],
   "source": [
    "#Within age bin 3, get purchase count"
   ]
  },
  {
   "cell_type": "code",
   "execution_count": null,
   "metadata": {},
   "outputs": [],
   "source": [
    "#Within age bin 4, get purchase count"
   ]
  },
  {
   "cell_type": "code",
   "execution_count": null,
   "metadata": {},
   "outputs": [],
   "source": [
    "#Within age bin 5, get purchase count"
   ]
  },
  {
   "cell_type": "code",
   "execution_count": null,
   "metadata": {},
   "outputs": [],
   "source": [
    "#Within age bin 6, get purchase count"
   ]
  },
  {
   "cell_type": "code",
   "execution_count": null,
   "metadata": {},
   "outputs": [],
   "source": [
    "#Within age bin 7, get purchase count"
   ]
  },
  {
   "cell_type": "code",
   "execution_count": null,
   "metadata": {},
   "outputs": [],
   "source": [
    "#Within age bin 8, get purchase count"
   ]
  },
  {
   "cell_type": "code",
   "execution_count": null,
   "metadata": {},
   "outputs": [],
   "source": [
    "#Within age bin 9, get purchase count"
   ]
  },
  {
   "cell_type": "code",
   "execution_count": null,
   "metadata": {},
   "outputs": [],
   "source": [
    "#Within age bin 10, get purchase count"
   ]
  },
  {
   "cell_type": "code",
   "execution_count": null,
   "metadata": {},
   "outputs": [],
   "source": [
    "#Within age bin 1, get average purchase price total per person"
   ]
  },
  {
   "cell_type": "code",
   "execution_count": null,
   "metadata": {},
   "outputs": [],
   "source": [
    "#Within age bin 2, get average purchase price total per person"
   ]
  },
  {
   "cell_type": "code",
   "execution_count": null,
   "metadata": {},
   "outputs": [],
   "source": [
    "#Within age bin 3, get average purchase price total per person"
   ]
  },
  {
   "cell_type": "code",
   "execution_count": null,
   "metadata": {},
   "outputs": [],
   "source": [
    "#Within age bin 4, get average purchase price total per person"
   ]
  },
  {
   "cell_type": "code",
   "execution_count": null,
   "metadata": {},
   "outputs": [],
   "source": [
    "#Within age bin 5, get average purchase price total per person"
   ]
  },
  {
   "cell_type": "code",
   "execution_count": null,
   "metadata": {},
   "outputs": [],
   "source": [
    "#Within age bin 6, get average purchase price total per person"
   ]
  },
  {
   "cell_type": "code",
   "execution_count": null,
   "metadata": {},
   "outputs": [],
   "source": [
    "#Within age bin 7, get average purchase price total per person"
   ]
  },
  {
   "cell_type": "code",
   "execution_count": null,
   "metadata": {},
   "outputs": [],
   "source": [
    "#Within age bin 8, get average purchase price total per person"
   ]
  },
  {
   "cell_type": "code",
   "execution_count": null,
   "metadata": {},
   "outputs": [],
   "source": [
    "#Within age bin 9, get average purchase price total per person"
   ]
  },
  {
   "cell_type": "code",
   "execution_count": null,
   "metadata": {},
   "outputs": [],
   "source": [
    "#Within age bin 10, get average purchase price total per person"
   ]
  },
  {
   "cell_type": "code",
   "execution_count": null,
   "metadata": {},
   "outputs": [],
   "source": [
    "#Within age bin 1, get average purchase total"
   ]
  },
  {
   "cell_type": "code",
   "execution_count": null,
   "metadata": {},
   "outputs": [],
   "source": [
    "#Within age bin 2, get average purchase total"
   ]
  },
  {
   "cell_type": "code",
   "execution_count": null,
   "metadata": {},
   "outputs": [],
   "source": [
    "#Within age bin 3, get average purchase total"
   ]
  },
  {
   "cell_type": "code",
   "execution_count": null,
   "metadata": {},
   "outputs": [],
   "source": [
    "#Within age bin 4, get average purchase total"
   ]
  },
  {
   "cell_type": "code",
   "execution_count": null,
   "metadata": {},
   "outputs": [],
   "source": [
    "#Within age bin 5, get average purchase total"
   ]
  },
  {
   "cell_type": "code",
   "execution_count": null,
   "metadata": {},
   "outputs": [],
   "source": [
    "#Within age bin 6, get average purchase total"
   ]
  },
  {
   "cell_type": "code",
   "execution_count": null,
   "metadata": {},
   "outputs": [],
   "source": [
    "#Within age bin 7, get average purchase total"
   ]
  },
  {
   "cell_type": "code",
   "execution_count": null,
   "metadata": {},
   "outputs": [],
   "source": [
    "#Within age bin 8, get average purchase total"
   ]
  },
  {
   "cell_type": "code",
   "execution_count": null,
   "metadata": {},
   "outputs": [],
   "source": [
    "#Within age bin 9, get average purchase total"
   ]
  },
  {
   "cell_type": "code",
   "execution_count": null,
   "metadata": {},
   "outputs": [],
   "source": [
    "#Within age bin 10, get average purchase total"
   ]
  },
  {
   "cell_type": "code",
   "execution_count": null,
   "metadata": {},
   "outputs": [],
   "source": [
    "#ANALYZE TOP SPENDERS:"
   ]
  },
  {
   "cell_type": "code",
   "execution_count": null,
   "metadata": {},
   "outputs": [],
   "source": [
    "#Identify the top 5 spenders in game by total purchase value"
   ]
  },
  {
   "cell_type": "code",
   "execution_count": null,
   "metadata": {},
   "outputs": [],
   "source": [
    "#List them in a table with the following information\n",
    "#SN, Purchase Count, Average Purchase Price, Total Purchase Price"
   ]
  },
  {
   "cell_type": "code",
   "execution_count": null,
   "metadata": {},
   "outputs": [],
   "source": [
    "#DETERMINE MOST POPULAR ITEMS"
   ]
  },
  {
   "cell_type": "code",
   "execution_count": null,
   "metadata": {},
   "outputs": [],
   "source": [
    "#Identify the 5 most popular items by purchase count"
   ]
  },
  {
   "cell_type": "code",
   "execution_count": null,
   "metadata": {},
   "outputs": [],
   "source": [
    "#List them in a table with the following information\n",
    "#Item ID, Item Name, #Purchase Count, #Item Price, #Total Purchase Value"
   ]
  },
  {
   "cell_type": "code",
   "execution_count": null,
   "metadata": {},
   "outputs": [],
   "source": [
    "#DETERMINE MOST PROFITABLE ITEMS"
   ]
  },
  {
   "cell_type": "code",
   "execution_count": null,
   "metadata": {},
   "outputs": [],
   "source": [
    "#Identify the 5 most profitable items by total purchase value"
   ]
  },
  {
   "cell_type": "code",
   "execution_count": null,
   "metadata": {},
   "outputs": [],
   "source": [
    "#List them in a table with the following information\n",
    "#Item ID, Item Name, Purchase Count, Itemm Price, Total Purchase Value"
   ]
  }
 ],
 "metadata": {
  "kernelspec": {
   "display_name": "Python 3",
   "language": "python",
   "name": "python3"
  },
  "language_info": {
   "codemirror_mode": {
    "name": "ipython",
    "version": 3
   },
   "file_extension": ".py",
   "mimetype": "text/x-python",
   "name": "python",
   "nbconvert_exporter": "python",
   "pygments_lexer": "ipython3",
   "version": "3.8.3"
  }
 },
 "nbformat": 4,
 "nbformat_minor": 4
}
