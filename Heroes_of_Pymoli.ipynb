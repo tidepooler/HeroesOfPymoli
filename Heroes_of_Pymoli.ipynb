{
 "cells": [
  {
   "cell_type": "code",
   "execution_count": 155,
   "metadata": {},
   "outputs": [],
   "source": [
    "#import pandas\n",
    "\n",
    "import pandas as pd"
   ]
  },
  {
   "cell_type": "code",
   "execution_count": 156,
   "metadata": {},
   "outputs": [],
   "source": [
    "#Import Modules\n",
    "\n",
    "import os\n",
    "import csv"
   ]
  },
  {
   "cell_type": "code",
   "execution_count": 157,
   "metadata": {},
   "outputs": [],
   "source": [
    "#Set path for file\n",
    "\n",
    "csvpath = os.path.join(\"Resources\", \"purchase_data.csv\")"
   ]
  },
  {
   "cell_type": "code",
   "execution_count": 158,
   "metadata": {},
   "outputs": [],
   "source": [
    "#Set table to data frame\n",
    "\n",
    "df_purchase_data = pd.read_csv(csvpath)"
   ]
  },
  {
   "cell_type": "code",
   "execution_count": 159,
   "metadata": {},
   "outputs": [
    {
     "data": {
      "text/plain": [
       "576"
      ]
     },
     "execution_count": 159,
     "metadata": {},
     "output_type": "execute_result"
    }
   ],
   "source": [
    "#DETERMINE PLAYER COUNT\n",
    "unique_players = df_purchase_data[\"SN\"].unique()\n",
    "player_count = len(unique_players)\n",
    "player_count\n"
   ]
  },
  {
   "cell_type": "code",
   "execution_count": 160,
   "metadata": {},
   "outputs": [],
   "source": [
    "#ANALYZE PURCHASING TOTALS:\n",
    "#Number of Unique Items, Average Purchase Price, Total Number of Purchases, Total Revenue"
   ]
  },
  {
   "cell_type": "code",
   "execution_count": 161,
   "metadata": {},
   "outputs": [
    {
     "data": {
      "text/plain": [
       "179"
      ]
     },
     "execution_count": 161,
     "metadata": {},
     "output_type": "execute_result"
    }
   ],
   "source": [
    "#Number of unique items\n",
    "unique_items = df_purchase_data[\"Item_Name\"].unique()\n",
    "unique_items_ct = len(unique_items)\n",
    "unique_items_ct"
   ]
  },
  {
   "cell_type": "code",
   "execution_count": 162,
   "metadata": {},
   "outputs": [
    {
     "data": {
      "text/plain": [
       "3.050987179487176"
      ]
     },
     "execution_count": 162,
     "metadata": {},
     "output_type": "execute_result"
    }
   ],
   "source": [
    "#Average Purchase Price:\n",
    "\n",
    "purchase_price = df_purchase_data[\"Price\"].mean()\n",
    "purchase_price\n",
    "#round up to two decimals?"
   ]
  },
  {
   "cell_type": "code",
   "execution_count": 163,
   "metadata": {},
   "outputs": [],
   "source": [
    "#ANALYZE GENDER DEMOGRAPHICS:\n",
    "# % and Count of Male Players, % and Count of Female Players, % and Count of Other/Non-disclosed Players"
   ]
  },
  {
   "cell_type": "code",
   "execution_count": 164,
   "metadata": {},
   "outputs": [
    {
     "data": {
      "text/plain": [
       "484"
      ]
     },
     "execution_count": 164,
     "metadata": {},
     "output_type": "execute_result"
    }
   ],
   "source": [
    "# Count of Male Players\n",
    "#first, define unique player names by gender\n",
    "unique_genders_df = df_purchase_data.groupby(\"Gender\")[\"SN\"].nunique()\n",
    "#then, call out gender \"male\"\n",
    "num_males = unique_genders_df[\"Male\"]\n",
    "\n",
    "num_males"
   ]
  },
  {
   "cell_type": "code",
   "execution_count": 165,
   "metadata": {},
   "outputs": [
    {
     "data": {
      "text/plain": [
       "84.02777777777779"
      ]
     },
     "execution_count": 165,
     "metadata": {},
     "output_type": "execute_result"
    }
   ],
   "source": [
    "# % of Male Players\n",
    "\n",
    "perc_male = num_males/player_count*100\n",
    "perc_male\n",
    "\n",
    "#round up to two decimals?"
   ]
  },
  {
   "cell_type": "code",
   "execution_count": 166,
   "metadata": {},
   "outputs": [
    {
     "data": {
      "text/plain": [
       "81"
      ]
     },
     "execution_count": 166,
     "metadata": {},
     "output_type": "execute_result"
    }
   ],
   "source": [
    "# % and Count of Female Players\n",
    "\n",
    "#then, call out gender \"female\"\n",
    "num_females = unique_genders_df[\"Female\"]\n",
    "\n",
    "num_females"
   ]
  },
  {
   "cell_type": "code",
   "execution_count": 167,
   "metadata": {},
   "outputs": [
    {
     "data": {
      "text/plain": [
       "14.0625"
      ]
     },
     "execution_count": 167,
     "metadata": {},
     "output_type": "execute_result"
    }
   ],
   "source": [
    "# % of Female Players\n",
    "\n",
    "perc_female = num_females/player_count*100\n",
    "perc_female\n",
    "\n",
    "#round up to two decimals?"
   ]
  },
  {
   "cell_type": "code",
   "execution_count": 168,
   "metadata": {},
   "outputs": [
    {
     "data": {
      "text/plain": [
       "11"
      ]
     },
     "execution_count": 168,
     "metadata": {},
     "output_type": "execute_result"
    }
   ],
   "source": [
    "# Count of Other/Non-disclosed Players\n",
    "\n",
    "#then, call out gender \"Other/Non-Disclosed\"\n",
    "num_other = unique_genders_df[\"Other / Non-Disclosed\"]\n",
    "\n",
    "num_other"
   ]
  },
  {
   "cell_type": "code",
   "execution_count": 169,
   "metadata": {},
   "outputs": [
    {
     "data": {
      "text/plain": [
       "1.9097222222222223"
      ]
     },
     "execution_count": 169,
     "metadata": {},
     "output_type": "execute_result"
    }
   ],
   "source": [
    "# % of Other/Non-disclosed Players\n",
    "\n",
    "perc_unknown = num_other/player_count*100\n",
    "perc_unknown\n",
    "\n",
    "#round up to two decimals?"
   ]
  },
  {
   "cell_type": "code",
   "execution_count": 170,
   "metadata": {},
   "outputs": [],
   "source": [
    "#Analyze Purchasing by Gender: \n",
    "#For each gender, determine\n",
    "#Purchase Count, Average Purchase Price, Total Purchase Value, Average Purchase Total Per Person"
   ]
  },
  {
   "cell_type": "code",
   "execution_count": 171,
   "metadata": {},
   "outputs": [
    {
     "data": {
      "text/plain": [
       "652"
      ]
     },
     "execution_count": 171,
     "metadata": {},
     "output_type": "execute_result"
    }
   ],
   "source": [
    "#For males, determine Purchase Count\n",
    "\n",
    "male_purchase = df_purchase_data.loc[df_purchase_data[\"Gender\"] == \"Male\", :] \n",
    "male_purchase = len(male_purchase) \n",
    "male_purchase"
   ]
  },
  {
   "cell_type": "code",
   "execution_count": 172,
   "metadata": {},
   "outputs": [
    {
     "data": {
      "text/plain": [
       "1.3471074380165289"
      ]
     },
     "execution_count": 172,
     "metadata": {},
     "output_type": "execute_result"
    }
   ],
   "source": [
    "#For males, determine Average Purchase Price\n",
    "\n",
    "m_avg_purch = male_purchase/num_males\n",
    "m_avg_purch\n",
    "\n",
    "#round up to two decimals?"
   ]
  },
  {
   "cell_type": "code",
   "execution_count": 173,
   "metadata": {},
   "outputs": [
    {
     "data": {
      "text/plain": [
       "144"
      ]
     },
     "execution_count": 173,
     "metadata": {},
     "output_type": "execute_result"
    }
   ],
   "source": [
    "#For males, determine Total Purchase Value\n",
    "\n",
    "unique_genders_purch = df_purchase_data.groupby(\"Gender\")[\"Price\"].nunique()\n",
    "\n",
    "#then, call out gender \"male\"\n",
    "tot_m_purch = unique_genders_purch[\"Male\"]\n",
    "tot_m_purch\n"
   ]
  },
  {
   "cell_type": "code",
   "execution_count": 181,
   "metadata": {
    "scrolled": true
   },
   "outputs": [
    {
     "data": {
      "text/plain": [
       "SN            Gender\n",
       "Adairialis76  Male      2.280000\n",
       "Aeda94        Male      4.910000\n",
       "Aela59        Male      4.320000\n",
       "Aelaria33     Male      1.790000\n",
       "Aelastirin39  Male      3.645000\n",
       "                          ...   \n",
       "Yasur85       Male      1.100000\n",
       "Yathecal72    Male      3.460000\n",
       "Yathedeu43    Male      3.010000\n",
       "Zhisrisu83    Male      3.945000\n",
       "Zontibe81     Male      2.676667\n",
       "Name: Price, Length: 484, dtype: float64"
      ]
     },
     "execution_count": 181,
     "metadata": {},
     "output_type": "execute_result"
    }
   ],
   "source": [
    "#For males, determine Total Average Purchase per person\n",
    "\n",
    "df_avg_tot_purch = df_purchase_data.groupby([\"SN\", \"Gender\"])[\"Price\"].agg(lambda x: x.unique().mean())\n",
    "df_avg_tot_purch.head()\n",
    "\n",
    "df_avg_tot_purch[df_avg_tot_purch.index.isin([\"Male\"], level=\"Gender\")]\n"
   ]
  },
  {
   "cell_type": "code",
   "execution_count": 100,
   "metadata": {},
   "outputs": [
    {
     "data": {
      "text/plain": [
       "113"
      ]
     },
     "execution_count": 100,
     "metadata": {},
     "output_type": "execute_result"
    }
   ],
   "source": [
    "#For females, determine Purchase Count\n",
    "\n",
    "female_purchase = df_purchase_data.loc[df_purchase_data[\"Gender\"] == \"Female\", :]\n",
    "\n",
    "female_purchase = len(female_purchase)\n",
    "female_purchase"
   ]
  },
  {
   "cell_type": "code",
   "execution_count": 182,
   "metadata": {},
   "outputs": [
    {
     "data": {
      "text/plain": [
       "1.3950617283950617"
      ]
     },
     "execution_count": 182,
     "metadata": {},
     "output_type": "execute_result"
    }
   ],
   "source": [
    "#For females, determine Average Purchase Price\n",
    "f_avg_purch = female_purchase/num_females\n",
    "f_avg_purch\n",
    "\n",
    "#round up to two decimals?"
   ]
  },
  {
   "cell_type": "code",
   "execution_count": 183,
   "metadata": {},
   "outputs": [
    {
     "data": {
      "text/plain": [
       "79"
      ]
     },
     "execution_count": 183,
     "metadata": {},
     "output_type": "execute_result"
    }
   ],
   "source": [
    "#For females, determine Total Purchase Value\n",
    "\n",
    "tot_f_purch = unique_genders_purch[\"Female\"]\n",
    "tot_f_purch"
   ]
  },
  {
   "cell_type": "code",
   "execution_count": 184,
   "metadata": {},
   "outputs": [
    {
     "data": {
      "text/plain": [
       "SN             Gender\n",
       "Adastirin33    Female    4.480000\n",
       "Aerithllora36  Female    4.320000\n",
       "Aethedru70     Female    3.540000\n",
       "Aidain51       Female    3.450000\n",
       "Aiduesu86      Female    4.480000\n",
       "                           ...   \n",
       "Wailin72       Female    2.730000\n",
       "Yana46         Female    3.550000\n",
       "Yarithrin84    Female    4.140000\n",
       "Yathecal82     Female    2.073333\n",
       "Yoishirrala98  Female    4.580000\n",
       "Name: Price, Length: 81, dtype: float64"
      ]
     },
     "execution_count": 184,
     "metadata": {},
     "output_type": "execute_result"
    }
   ],
   "source": [
    "#For females, determine Average Purchase Total Per Person\n",
    "\n",
    "df_avg_tot_purch[df_avg_tot_purch.index.isin([\"Female\"], level=\"Gender\")]"
   ]
  },
  {
   "cell_type": "code",
   "execution_count": 73,
   "metadata": {},
   "outputs": [
    {
     "data": {
      "text/plain": [
       "15"
      ]
     },
     "execution_count": 73,
     "metadata": {},
     "output_type": "execute_result"
    }
   ],
   "source": [
    "#For unknown gender, determine\n",
    "#Purchase Count, Average Purchase Price, Total Purchase Value, Average Purchase Total Per Person\n",
    "\n",
    "other_gender_purchase = df_purchase_data.loc[df_purchase_data[\"Gender\"] == \"Other / Non-Disclosed\", :]\n",
    "other_gender_purchase = len(other_gender_purchase)\n",
    "other_gender_purchase"
   ]
  },
  {
   "cell_type": "code",
   "execution_count": 185,
   "metadata": {},
   "outputs": [
    {
     "data": {
      "text/plain": [
       "1.3636363636363635"
      ]
     },
     "execution_count": 185,
     "metadata": {},
     "output_type": "execute_result"
    }
   ],
   "source": [
    "#For unknown gender, determine Average Purchase Price\n",
    "\n",
    "o_avg_purch = other_gender_purchase/num_other\n",
    "o_avg_purch\n",
    "\n",
    "#round up to two decimals?"
   ]
  },
  {
   "cell_type": "code",
   "execution_count": 186,
   "metadata": {},
   "outputs": [
    {
     "data": {
      "text/plain": [
       "12"
      ]
     },
     "execution_count": 186,
     "metadata": {},
     "output_type": "execute_result"
    }
   ],
   "source": [
    "#For unknown gender, determine Total Purchase Value\n",
    "\n",
    "tot_f_purch = unique_genders_purch[\"Other / Non-Disclosed\"]\n",
    "tot_f_purch"
   ]
  },
  {
   "cell_type": "code",
   "execution_count": 187,
   "metadata": {},
   "outputs": [
    {
     "data": {
      "text/plain": [
       "SN            Gender               \n",
       "Airi27        Other / Non-Disclosed    3.450\n",
       "Chanosian48   Other / Non-Disclosed    3.760\n",
       "Eodaisu60     Other / Non-Disclosed    3.940\n",
       "Haerithp41    Other / Non-Disclosed    4.400\n",
       "Idairin51     Other / Non-Disclosed    3.500\n",
       "Jiskirran77   Other / Non-Disclosed    3.390\n",
       "Lirtim36      Other / Non-Disclosed    1.330\n",
       "Maluncil97    Other / Non-Disclosed    2.640\n",
       "Rairith81     Other / Non-Disclosed    2.220\n",
       "Siarithria38  Other / Non-Disclosed    3.455\n",
       "Sundim98      Other / Non-Disclosed    4.750\n",
       "Name: Price, dtype: float64"
      ]
     },
     "execution_count": 187,
     "metadata": {},
     "output_type": "execute_result"
    }
   ],
   "source": [
    "#For unknown gender, determine Average Purchase Total Per Person\n",
    "\n",
    "df_avg_tot_purch[df_avg_tot_purch.index.isin([\"Other / Non-Disclosed\"], level=\"Gender\")]"
   ]
  },
  {
   "cell_type": "code",
   "execution_count": null,
   "metadata": {},
   "outputs": [],
   "source": [
    "#Analyze Age Demographics:\n",
    "#Determine the lowest and highest age\n",
    "#Break age groups into bins of 4 years: 6-10, 11-15, 16-20, 20-24, etc.\n",
    "#Within each age bin, determine: \n",
    "    #Purchase Count, Average Purchase Price, Total Purchase Price, Average Purchase Total Per Person"
   ]
  },
  {
   "cell_type": "code",
   "execution_count": null,
   "metadata": {},
   "outputs": [],
   "source": [
    "#Analyze Top Spenders:\n",
    "#Identify the top 5 spenders in game by total purchase value\n",
    "#List them in a table with the following information\n",
    "#SN, Purchase Count, Average Purchase Price, Total Purchase Price"
   ]
  },
  {
   "cell_type": "code",
   "execution_count": null,
   "metadata": {},
   "outputs": [],
   "source": [
    "#Determine Most Popular Items\n",
    "#Identify the 5 most popular items by purchase count\n",
    "#List them in a table with the following information\n",
    "#Item ID, Item Name, #Purchase Count, #Item Price, #Total Purchase Value"
   ]
  },
  {
   "cell_type": "code",
   "execution_count": null,
   "metadata": {},
   "outputs": [],
   "source": [
    "#Determine Most Profitable Items\n",
    "#Identify the 5 most profitable items by total purchase value\n",
    "#List them in a table with the following information\n",
    "#Item ID, Item Name, Purchase Count, Itemm Price, Total Purchase Value"
   ]
  },
  {
   "cell_type": "code",
   "execution_count": null,
   "metadata": {},
   "outputs": [],
   "source": []
  }
 ],
 "metadata": {
  "kernelspec": {
   "display_name": "Python 3",
   "language": "python",
   "name": "python3"
  },
  "language_info": {
   "codemirror_mode": {
    "name": "ipython",
    "version": 3
   },
   "file_extension": ".py",
   "mimetype": "text/x-python",
   "name": "python",
   "nbconvert_exporter": "python",
   "pygments_lexer": "ipython3",
   "version": "3.8.3"
  }
 },
 "nbformat": 4,
 "nbformat_minor": 4
}
